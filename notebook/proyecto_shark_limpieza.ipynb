{
 "cells": [
  {
   "cell_type": "markdown",
   "id": "3889d06e",
   "metadata": {},
   "source": [
    "## PIP, Import y read"
   ]
  },
  {
   "cell_type": "code",
   "execution_count": 1,
   "id": "05ad96dc",
   "metadata": {},
   "outputs": [
    {
     "name": "stdout",
     "output_type": "stream",
     "text": [
      "Requirement already satisfied: ipython in c:\\users\\usuario\\.conda\\envs\\clase\\lib\\site-packages (8.1.1)\n",
      "Requirement already satisfied: traitlets>=5 in c:\\users\\usuario\\.conda\\envs\\clase\\lib\\site-packages (from ipython) (5.1.1)\n",
      "Requirement already satisfied: setuptools>=18.5 in c:\\users\\usuario\\.conda\\envs\\clase\\lib\\site-packages (from ipython) (58.0.4)\n",
      "Requirement already satisfied: pygments>=2.4.0 in c:\\users\\usuario\\.conda\\envs\\clase\\lib\\site-packages (from ipython) (2.11.2)\n",
      "Requirement already satisfied: stack-data in c:\\users\\usuario\\.conda\\envs\\clase\\lib\\site-packages (from ipython) (0.2.0)\n",
      "Requirement already satisfied: backcall in c:\\users\\usuario\\.conda\\envs\\clase\\lib\\site-packages (from ipython) (0.2.0)\n",
      "Requirement already satisfied: pickleshare in c:\\users\\usuario\\.conda\\envs\\clase\\lib\\site-packages (from ipython) (0.7.5)\n",
      "Requirement already satisfied: prompt-toolkit!=3.0.0,!=3.0.1,<3.1.0,>=2.0.0 in c:\\users\\usuario\\.conda\\envs\\clase\\lib\\site-packages (from ipython) (3.0.28)\n",
      "Requirement already satisfied: colorama in c:\\users\\usuario\\.conda\\envs\\clase\\lib\\site-packages (from ipython) (0.4.4)\n",
      "Requirement already satisfied: jedi>=0.16 in c:\\users\\usuario\\.conda\\envs\\clase\\lib\\site-packages (from ipython) (0.18.1)\n",
      "Requirement already satisfied: decorator in c:\\users\\usuario\\.conda\\envs\\clase\\lib\\site-packages (from ipython) (5.1.1)\n",
      "Requirement already satisfied: matplotlib-inline in c:\\users\\usuario\\.conda\\envs\\clase\\lib\\site-packages (from ipython) (0.1.3)\n",
      "Requirement already satisfied: parso<0.9.0,>=0.8.0 in c:\\users\\usuario\\.conda\\envs\\clase\\lib\\site-packages (from jedi>=0.16->ipython) (0.8.3)\n",
      "Requirement already satisfied: wcwidth in c:\\users\\usuario\\.conda\\envs\\clase\\lib\\site-packages (from prompt-toolkit!=3.0.0,!=3.0.1,<3.1.0,>=2.0.0->ipython) (0.2.5)\n",
      "Requirement already satisfied: pure-eval in c:\\users\\usuario\\.conda\\envs\\clase\\lib\\site-packages (from stack-data->ipython) (0.2.2)\n",
      "Requirement already satisfied: executing in c:\\users\\usuario\\.conda\\envs\\clase\\lib\\site-packages (from stack-data->ipython) (0.8.3)\n",
      "Requirement already satisfied: asttokens in c:\\users\\usuario\\.conda\\envs\\clase\\lib\\site-packages (from stack-data->ipython) (2.0.5)\n",
      "Requirement already satisfied: six in c:\\users\\usuario\\.conda\\envs\\clase\\lib\\site-packages (from asttokens->stack-data->ipython) (1.16.0)\n",
      "Requirement already satisfied: seaborn in c:\\users\\usuario\\.conda\\envs\\clase\\lib\\site-packages (0.11.2)\n",
      "Requirement already satisfied: pandas>=0.23 in c:\\users\\usuario\\.conda\\envs\\clase\\lib\\site-packages (from seaborn) (1.4.1)\n",
      "Requirement already satisfied: numpy>=1.15 in c:\\users\\usuario\\.conda\\envs\\clase\\lib\\site-packages (from seaborn) (1.21.5)\n",
      "Requirement already satisfied: scipy>=1.0 in c:\\users\\usuario\\.conda\\envs\\clase\\lib\\site-packages (from seaborn) (1.8.0)\n",
      "Requirement already satisfied: matplotlib>=2.2 in c:\\users\\usuario\\.conda\\envs\\clase\\lib\\site-packages (from seaborn) (3.5.1)\n",
      "Requirement already satisfied: fonttools>=4.22.0 in c:\\users\\usuario\\.conda\\envs\\clase\\lib\\site-packages (from matplotlib>=2.2->seaborn) (4.31.2)\n",
      "Requirement already satisfied: pillow>=6.2.0 in c:\\users\\usuario\\.conda\\envs\\clase\\lib\\site-packages (from matplotlib>=2.2->seaborn) (9.0.1)\n",
      "Requirement already satisfied: cycler>=0.10 in c:\\users\\usuario\\.conda\\envs\\clase\\lib\\site-packages (from matplotlib>=2.2->seaborn) (0.11.0)\n",
      "Requirement already satisfied: kiwisolver>=1.0.1 in c:\\users\\usuario\\.conda\\envs\\clase\\lib\\site-packages (from matplotlib>=2.2->seaborn) (1.4.2)\n",
      "Requirement already satisfied: pyparsing>=2.2.1 in c:\\users\\usuario\\.conda\\envs\\clase\\lib\\site-packages (from matplotlib>=2.2->seaborn) (3.0.4)\n",
      "Requirement already satisfied: python-dateutil>=2.7 in c:\\users\\usuario\\.conda\\envs\\clase\\lib\\site-packages (from matplotlib>=2.2->seaborn) (2.8.2)\n",
      "Requirement already satisfied: packaging>=20.0 in c:\\users\\usuario\\.conda\\envs\\clase\\lib\\site-packages (from matplotlib>=2.2->seaborn) (21.3)\n",
      "Requirement already satisfied: pytz>=2020.1 in c:\\users\\usuario\\.conda\\envs\\clase\\lib\\site-packages (from pandas>=0.23->seaborn) (2022.1)\n",
      "Requirement already satisfied: six>=1.5 in c:\\users\\usuario\\.conda\\envs\\clase\\lib\\site-packages (from python-dateutil>=2.7->matplotlib>=2.2->seaborn) (1.16.0)\n",
      "Requirement already satisfied: regex in c:\\users\\usuario\\.conda\\envs\\clase\\lib\\site-packages (2022.3.15)\n"
     ]
    }
   ],
   "source": [
    "!pip install ipython\n",
    "!pip install seaborn\n",
    "!pip install regex"
   ]
  },
  {
   "cell_type": "code",
   "execution_count": 2,
   "id": "4db38f69",
   "metadata": {},
   "outputs": [],
   "source": [
    "import pandas as pd\n",
    "pd.set_option('display.max_columns', None)\n",
    "\n",
    "import numpy as np\n",
    "\n",
    "import warnings\n",
    "warnings.simplefilter('ignore')\n",
    "\n",
    "# para pintar\n",
    "import pylab as plt\n",
    "import seaborn as sns\n",
    "\n",
    "# para que salga el grafico\n",
    "%matplotlib inline"
   ]
  },
  {
   "cell_type": "code",
   "execution_count": 3,
   "id": "063b25e7",
   "metadata": {},
   "outputs": [
    {
     "data": {
      "text/html": [
       "<div>\n",
       "<style scoped>\n",
       "    .dataframe tbody tr th:only-of-type {\n",
       "        vertical-align: middle;\n",
       "    }\n",
       "\n",
       "    .dataframe tbody tr th {\n",
       "        vertical-align: top;\n",
       "    }\n",
       "\n",
       "    .dataframe thead th {\n",
       "        text-align: right;\n",
       "    }\n",
       "</style>\n",
       "<table border=\"1\" class=\"dataframe\">\n",
       "  <thead>\n",
       "    <tr style=\"text-align: right;\">\n",
       "      <th></th>\n",
       "      <th>Case Number</th>\n",
       "      <th>Date</th>\n",
       "      <th>Year</th>\n",
       "      <th>Type</th>\n",
       "      <th>Country</th>\n",
       "      <th>Area</th>\n",
       "      <th>Location</th>\n",
       "      <th>Activity</th>\n",
       "      <th>Name</th>\n",
       "      <th>Sex</th>\n",
       "      <th>Age</th>\n",
       "      <th>Injury</th>\n",
       "      <th>Fatal (Y/N)</th>\n",
       "      <th>Time</th>\n",
       "      <th>Species</th>\n",
       "      <th>Investigator or Source</th>\n",
       "      <th>pdf</th>\n",
       "      <th>href formula</th>\n",
       "      <th>href</th>\n",
       "      <th>Case Number.1</th>\n",
       "      <th>Case Number.2</th>\n",
       "      <th>original order</th>\n",
       "      <th>Unnamed: 22</th>\n",
       "      <th>Unnamed: 23</th>\n",
       "    </tr>\n",
       "  </thead>\n",
       "  <tbody>\n",
       "    <tr>\n",
       "      <th>0</th>\n",
       "      <td>2018.06.25</td>\n",
       "      <td>25-Jun-2018</td>\n",
       "      <td>2018.0</td>\n",
       "      <td>Boating</td>\n",
       "      <td>USA</td>\n",
       "      <td>California</td>\n",
       "      <td>Oceanside, San Diego County</td>\n",
       "      <td>Paddling</td>\n",
       "      <td>Julie Wolfe</td>\n",
       "      <td>F</td>\n",
       "      <td>57</td>\n",
       "      <td>No injury to occupant, outrigger canoe and pad...</td>\n",
       "      <td>N</td>\n",
       "      <td>18h00</td>\n",
       "      <td>White shark</td>\n",
       "      <td>R. Collier, GSAF</td>\n",
       "      <td>2018.06.25-Wolfe.pdf</td>\n",
       "      <td>http://sharkattackfile.net/spreadsheets/pdf_di...</td>\n",
       "      <td>http://sharkattackfile.net/spreadsheets/pdf_di...</td>\n",
       "      <td>2018.06.25</td>\n",
       "      <td>2018.06.25</td>\n",
       "      <td>6303.0</td>\n",
       "      <td>NaN</td>\n",
       "      <td>NaN</td>\n",
       "    </tr>\n",
       "    <tr>\n",
       "      <th>1</th>\n",
       "      <td>2018.06.18</td>\n",
       "      <td>18-Jun-2018</td>\n",
       "      <td>2018.0</td>\n",
       "      <td>Unprovoked</td>\n",
       "      <td>USA</td>\n",
       "      <td>Georgia</td>\n",
       "      <td>St. Simon Island, Glynn County</td>\n",
       "      <td>Standing</td>\n",
       "      <td>Adyson McNeely</td>\n",
       "      <td>F</td>\n",
       "      <td>11</td>\n",
       "      <td>Minor injury to left thigh</td>\n",
       "      <td>N</td>\n",
       "      <td>14h00  -15h00</td>\n",
       "      <td>NaN</td>\n",
       "      <td>K.McMurray, TrackingSharks.com</td>\n",
       "      <td>2018.06.18-McNeely.pdf</td>\n",
       "      <td>http://sharkattackfile.net/spreadsheets/pdf_di...</td>\n",
       "      <td>http://sharkattackfile.net/spreadsheets/pdf_di...</td>\n",
       "      <td>2018.06.18</td>\n",
       "      <td>2018.06.18</td>\n",
       "      <td>6302.0</td>\n",
       "      <td>NaN</td>\n",
       "      <td>NaN</td>\n",
       "    </tr>\n",
       "    <tr>\n",
       "      <th>2</th>\n",
       "      <td>2018.06.09</td>\n",
       "      <td>09-Jun-2018</td>\n",
       "      <td>2018.0</td>\n",
       "      <td>Invalid</td>\n",
       "      <td>USA</td>\n",
       "      <td>Hawaii</td>\n",
       "      <td>Habush, Oahu</td>\n",
       "      <td>Surfing</td>\n",
       "      <td>John Denges</td>\n",
       "      <td>M</td>\n",
       "      <td>48</td>\n",
       "      <td>Injury to left lower leg from surfboard skeg</td>\n",
       "      <td>N</td>\n",
       "      <td>07h45</td>\n",
       "      <td>NaN</td>\n",
       "      <td>K.McMurray, TrackingSharks.com</td>\n",
       "      <td>2018.06.09-Denges.pdf</td>\n",
       "      <td>http://sharkattackfile.net/spreadsheets/pdf_di...</td>\n",
       "      <td>http://sharkattackfile.net/spreadsheets/pdf_di...</td>\n",
       "      <td>2018.06.09</td>\n",
       "      <td>2018.06.09</td>\n",
       "      <td>6301.0</td>\n",
       "      <td>NaN</td>\n",
       "      <td>NaN</td>\n",
       "    </tr>\n",
       "    <tr>\n",
       "      <th>3</th>\n",
       "      <td>2018.06.08</td>\n",
       "      <td>08-Jun-2018</td>\n",
       "      <td>2018.0</td>\n",
       "      <td>Unprovoked</td>\n",
       "      <td>AUSTRALIA</td>\n",
       "      <td>New South Wales</td>\n",
       "      <td>Arrawarra Headland</td>\n",
       "      <td>Surfing</td>\n",
       "      <td>male</td>\n",
       "      <td>M</td>\n",
       "      <td>NaN</td>\n",
       "      <td>Minor injury to lower leg</td>\n",
       "      <td>N</td>\n",
       "      <td>NaN</td>\n",
       "      <td>2 m shark</td>\n",
       "      <td>B. Myatt, GSAF</td>\n",
       "      <td>2018.06.08-Arrawarra.pdf</td>\n",
       "      <td>http://sharkattackfile.net/spreadsheets/pdf_di...</td>\n",
       "      <td>http://sharkattackfile.net/spreadsheets/pdf_di...</td>\n",
       "      <td>2018.06.08</td>\n",
       "      <td>2018.06.08</td>\n",
       "      <td>6300.0</td>\n",
       "      <td>NaN</td>\n",
       "      <td>NaN</td>\n",
       "    </tr>\n",
       "    <tr>\n",
       "      <th>4</th>\n",
       "      <td>2018.06.04</td>\n",
       "      <td>04-Jun-2018</td>\n",
       "      <td>2018.0</td>\n",
       "      <td>Provoked</td>\n",
       "      <td>MEXICO</td>\n",
       "      <td>Colima</td>\n",
       "      <td>La Ticla</td>\n",
       "      <td>Free diving</td>\n",
       "      <td>Gustavo Ramos</td>\n",
       "      <td>M</td>\n",
       "      <td>NaN</td>\n",
       "      <td>Lacerations to leg &amp; hand shark PROVOKED INCIDENT</td>\n",
       "      <td>N</td>\n",
       "      <td>NaN</td>\n",
       "      <td>Tiger shark, 3m</td>\n",
       "      <td>A .Kipper</td>\n",
       "      <td>2018.06.04-Ramos.pdf</td>\n",
       "      <td>http://sharkattackfile.net/spreadsheets/pdf_di...</td>\n",
       "      <td>http://sharkattackfile.net/spreadsheets/pdf_di...</td>\n",
       "      <td>2018.06.04</td>\n",
       "      <td>2018.06.04</td>\n",
       "      <td>6299.0</td>\n",
       "      <td>NaN</td>\n",
       "      <td>NaN</td>\n",
       "    </tr>\n",
       "    <tr>\n",
       "      <th>...</th>\n",
       "      <td>...</td>\n",
       "      <td>...</td>\n",
       "      <td>...</td>\n",
       "      <td>...</td>\n",
       "      <td>...</td>\n",
       "      <td>...</td>\n",
       "      <td>...</td>\n",
       "      <td>...</td>\n",
       "      <td>...</td>\n",
       "      <td>...</td>\n",
       "      <td>...</td>\n",
       "      <td>...</td>\n",
       "      <td>...</td>\n",
       "      <td>...</td>\n",
       "      <td>...</td>\n",
       "      <td>...</td>\n",
       "      <td>...</td>\n",
       "      <td>...</td>\n",
       "      <td>...</td>\n",
       "      <td>...</td>\n",
       "      <td>...</td>\n",
       "      <td>...</td>\n",
       "      <td>...</td>\n",
       "      <td>...</td>\n",
       "    </tr>\n",
       "    <tr>\n",
       "      <th>25718</th>\n",
       "      <td>NaN</td>\n",
       "      <td>NaN</td>\n",
       "      <td>NaN</td>\n",
       "      <td>NaN</td>\n",
       "      <td>NaN</td>\n",
       "      <td>NaN</td>\n",
       "      <td>NaN</td>\n",
       "      <td>NaN</td>\n",
       "      <td>NaN</td>\n",
       "      <td>NaN</td>\n",
       "      <td>NaN</td>\n",
       "      <td>NaN</td>\n",
       "      <td>NaN</td>\n",
       "      <td>NaN</td>\n",
       "      <td>NaN</td>\n",
       "      <td>NaN</td>\n",
       "      <td>NaN</td>\n",
       "      <td>NaN</td>\n",
       "      <td>NaN</td>\n",
       "      <td>NaN</td>\n",
       "      <td>NaN</td>\n",
       "      <td>NaN</td>\n",
       "      <td>NaN</td>\n",
       "      <td>NaN</td>\n",
       "    </tr>\n",
       "    <tr>\n",
       "      <th>25719</th>\n",
       "      <td>NaN</td>\n",
       "      <td>NaN</td>\n",
       "      <td>NaN</td>\n",
       "      <td>NaN</td>\n",
       "      <td>NaN</td>\n",
       "      <td>NaN</td>\n",
       "      <td>NaN</td>\n",
       "      <td>NaN</td>\n",
       "      <td>NaN</td>\n",
       "      <td>NaN</td>\n",
       "      <td>NaN</td>\n",
       "      <td>NaN</td>\n",
       "      <td>NaN</td>\n",
       "      <td>NaN</td>\n",
       "      <td>NaN</td>\n",
       "      <td>NaN</td>\n",
       "      <td>NaN</td>\n",
       "      <td>NaN</td>\n",
       "      <td>NaN</td>\n",
       "      <td>NaN</td>\n",
       "      <td>NaN</td>\n",
       "      <td>NaN</td>\n",
       "      <td>NaN</td>\n",
       "      <td>NaN</td>\n",
       "    </tr>\n",
       "    <tr>\n",
       "      <th>25720</th>\n",
       "      <td>NaN</td>\n",
       "      <td>NaN</td>\n",
       "      <td>NaN</td>\n",
       "      <td>NaN</td>\n",
       "      <td>NaN</td>\n",
       "      <td>NaN</td>\n",
       "      <td>NaN</td>\n",
       "      <td>NaN</td>\n",
       "      <td>NaN</td>\n",
       "      <td>NaN</td>\n",
       "      <td>NaN</td>\n",
       "      <td>NaN</td>\n",
       "      <td>NaN</td>\n",
       "      <td>NaN</td>\n",
       "      <td>NaN</td>\n",
       "      <td>NaN</td>\n",
       "      <td>NaN</td>\n",
       "      <td>NaN</td>\n",
       "      <td>NaN</td>\n",
       "      <td>NaN</td>\n",
       "      <td>NaN</td>\n",
       "      <td>NaN</td>\n",
       "      <td>NaN</td>\n",
       "      <td>NaN</td>\n",
       "    </tr>\n",
       "    <tr>\n",
       "      <th>25721</th>\n",
       "      <td>NaN</td>\n",
       "      <td>NaN</td>\n",
       "      <td>NaN</td>\n",
       "      <td>NaN</td>\n",
       "      <td>NaN</td>\n",
       "      <td>NaN</td>\n",
       "      <td>NaN</td>\n",
       "      <td>NaN</td>\n",
       "      <td>NaN</td>\n",
       "      <td>NaN</td>\n",
       "      <td>NaN</td>\n",
       "      <td>NaN</td>\n",
       "      <td>NaN</td>\n",
       "      <td>NaN</td>\n",
       "      <td>NaN</td>\n",
       "      <td>NaN</td>\n",
       "      <td>NaN</td>\n",
       "      <td>NaN</td>\n",
       "      <td>NaN</td>\n",
       "      <td>NaN</td>\n",
       "      <td>NaN</td>\n",
       "      <td>NaN</td>\n",
       "      <td>NaN</td>\n",
       "      <td>NaN</td>\n",
       "    </tr>\n",
       "    <tr>\n",
       "      <th>25722</th>\n",
       "      <td>xx</td>\n",
       "      <td>NaN</td>\n",
       "      <td>NaN</td>\n",
       "      <td>NaN</td>\n",
       "      <td>NaN</td>\n",
       "      <td>NaN</td>\n",
       "      <td>NaN</td>\n",
       "      <td>NaN</td>\n",
       "      <td>NaN</td>\n",
       "      <td>NaN</td>\n",
       "      <td>NaN</td>\n",
       "      <td>NaN</td>\n",
       "      <td>NaN</td>\n",
       "      <td>NaN</td>\n",
       "      <td>NaN</td>\n",
       "      <td>NaN</td>\n",
       "      <td>NaN</td>\n",
       "      <td>NaN</td>\n",
       "      <td>NaN</td>\n",
       "      <td>NaN</td>\n",
       "      <td>NaN</td>\n",
       "      <td>NaN</td>\n",
       "      <td>NaN</td>\n",
       "      <td>NaN</td>\n",
       "    </tr>\n",
       "  </tbody>\n",
       "</table>\n",
       "<p>25723 rows × 24 columns</p>\n",
       "</div>"
      ],
      "text/plain": [
       "      Case Number         Date    Year        Type    Country  \\\n",
       "0      2018.06.25  25-Jun-2018  2018.0     Boating        USA   \n",
       "1      2018.06.18  18-Jun-2018  2018.0  Unprovoked        USA   \n",
       "2      2018.06.09  09-Jun-2018  2018.0     Invalid        USA   \n",
       "3      2018.06.08  08-Jun-2018  2018.0  Unprovoked  AUSTRALIA   \n",
       "4      2018.06.04  04-Jun-2018  2018.0    Provoked     MEXICO   \n",
       "...           ...          ...     ...         ...        ...   \n",
       "25718         NaN          NaN     NaN         NaN        NaN   \n",
       "25719         NaN          NaN     NaN         NaN        NaN   \n",
       "25720         NaN          NaN     NaN         NaN        NaN   \n",
       "25721         NaN          NaN     NaN         NaN        NaN   \n",
       "25722          xx          NaN     NaN         NaN        NaN   \n",
       "\n",
       "                  Area                        Location     Activity  \\\n",
       "0           California     Oceanside, San Diego County     Paddling   \n",
       "1              Georgia  St. Simon Island, Glynn County     Standing   \n",
       "2               Hawaii                    Habush, Oahu      Surfing   \n",
       "3      New South Wales              Arrawarra Headland      Surfing   \n",
       "4               Colima                        La Ticla  Free diving   \n",
       "...                ...                             ...          ...   \n",
       "25718              NaN                             NaN          NaN   \n",
       "25719              NaN                             NaN          NaN   \n",
       "25720              NaN                             NaN          NaN   \n",
       "25721              NaN                             NaN          NaN   \n",
       "25722              NaN                             NaN          NaN   \n",
       "\n",
       "                  Name Sex   Age  \\\n",
       "0          Julie Wolfe    F   57   \n",
       "1      Adyson McNeely     F   11   \n",
       "2          John Denges    M   48   \n",
       "3                 male    M  NaN   \n",
       "4       Gustavo Ramos     M  NaN   \n",
       "...                ...  ...  ...   \n",
       "25718              NaN  NaN  NaN   \n",
       "25719              NaN  NaN  NaN   \n",
       "25720              NaN  NaN  NaN   \n",
       "25721              NaN  NaN  NaN   \n",
       "25722              NaN  NaN  NaN   \n",
       "\n",
       "                                                  Injury Fatal (Y/N)  \\\n",
       "0      No injury to occupant, outrigger canoe and pad...           N   \n",
       "1                             Minor injury to left thigh           N   \n",
       "2           Injury to left lower leg from surfboard skeg           N   \n",
       "3                              Minor injury to lower leg           N   \n",
       "4      Lacerations to leg & hand shark PROVOKED INCIDENT           N   \n",
       "...                                                  ...         ...   \n",
       "25718                                                NaN         NaN   \n",
       "25719                                                NaN         NaN   \n",
       "25720                                                NaN         NaN   \n",
       "25721                                                NaN         NaN   \n",
       "25722                                                NaN         NaN   \n",
       "\n",
       "                Time         Species           Investigator or Source  \\\n",
       "0              18h00      White shark                R. Collier, GSAF   \n",
       "1      14h00  -15h00              NaN  K.McMurray, TrackingSharks.com   \n",
       "2              07h45              NaN  K.McMurray, TrackingSharks.com   \n",
       "3                NaN        2 m shark                  B. Myatt, GSAF   \n",
       "4                NaN  Tiger shark, 3m                       A .Kipper   \n",
       "...              ...              ...                             ...   \n",
       "25718            NaN              NaN                             NaN   \n",
       "25719            NaN              NaN                             NaN   \n",
       "25720            NaN              NaN                             NaN   \n",
       "25721            NaN              NaN                             NaN   \n",
       "25722            NaN              NaN                             NaN   \n",
       "\n",
       "                            pdf  \\\n",
       "0          2018.06.25-Wolfe.pdf   \n",
       "1        2018.06.18-McNeely.pdf   \n",
       "2         2018.06.09-Denges.pdf   \n",
       "3      2018.06.08-Arrawarra.pdf   \n",
       "4          2018.06.04-Ramos.pdf   \n",
       "...                         ...   \n",
       "25718                       NaN   \n",
       "25719                       NaN   \n",
       "25720                       NaN   \n",
       "25721                       NaN   \n",
       "25722                       NaN   \n",
       "\n",
       "                                            href formula  \\\n",
       "0      http://sharkattackfile.net/spreadsheets/pdf_di...   \n",
       "1      http://sharkattackfile.net/spreadsheets/pdf_di...   \n",
       "2      http://sharkattackfile.net/spreadsheets/pdf_di...   \n",
       "3      http://sharkattackfile.net/spreadsheets/pdf_di...   \n",
       "4      http://sharkattackfile.net/spreadsheets/pdf_di...   \n",
       "...                                                  ...   \n",
       "25718                                                NaN   \n",
       "25719                                                NaN   \n",
       "25720                                                NaN   \n",
       "25721                                                NaN   \n",
       "25722                                                NaN   \n",
       "\n",
       "                                                    href Case Number.1  \\\n",
       "0      http://sharkattackfile.net/spreadsheets/pdf_di...    2018.06.25   \n",
       "1      http://sharkattackfile.net/spreadsheets/pdf_di...    2018.06.18   \n",
       "2      http://sharkattackfile.net/spreadsheets/pdf_di...    2018.06.09   \n",
       "3      http://sharkattackfile.net/spreadsheets/pdf_di...    2018.06.08   \n",
       "4      http://sharkattackfile.net/spreadsheets/pdf_di...    2018.06.04   \n",
       "...                                                  ...           ...   \n",
       "25718                                                NaN           NaN   \n",
       "25719                                                NaN           NaN   \n",
       "25720                                                NaN           NaN   \n",
       "25721                                                NaN           NaN   \n",
       "25722                                                NaN           NaN   \n",
       "\n",
       "      Case Number.2  original order Unnamed: 22 Unnamed: 23  \n",
       "0        2018.06.25          6303.0         NaN         NaN  \n",
       "1        2018.06.18          6302.0         NaN         NaN  \n",
       "2        2018.06.09          6301.0         NaN         NaN  \n",
       "3        2018.06.08          6300.0         NaN         NaN  \n",
       "4        2018.06.04          6299.0         NaN         NaN  \n",
       "...             ...             ...         ...         ...  \n",
       "25718           NaN             NaN         NaN         NaN  \n",
       "25719           NaN             NaN         NaN         NaN  \n",
       "25720           NaN             NaN         NaN         NaN  \n",
       "25721           NaN             NaN         NaN         NaN  \n",
       "25722           NaN             NaN         NaN         NaN  \n",
       "\n",
       "[25723 rows x 24 columns]"
      ]
     },
     "execution_count": 3,
     "metadata": {},
     "output_type": "execute_result"
    }
   ],
   "source": [
    "data =pd.read_csv('../Data/attacks.csv', encoding='latin1')\n",
    "data"
   ]
  },
  {
   "cell_type": "markdown",
   "id": "d86cef95",
   "metadata": {},
   "source": [
    "## Dataframe original"
   ]
  },
  {
   "cell_type": "code",
   "execution_count": 4,
   "id": "f360adf6",
   "metadata": {},
   "outputs": [],
   "source": [
    "# Modifico el nombre de las columnas a minusculas y le quito los espacios.\n",
    "\n",
    "data.columns=[c.lower().replace(' ', '_') for c in data.columns]\n",
    "data.columns=[c.lower().replace(':', '') for c in data.columns]\n",
    "data.columns=[c.lower().replace('.', '_') for c in data.columns]\n",
    "data.columns=[c.lower().replace('(', '') for c in data.columns]\n",
    "data.columns=[c.lower().replace(')', '') for c in data.columns]\n",
    "data.columns=[c.lower().replace('/', '_') for c in data.columns]"
   ]
  },
  {
   "cell_type": "code",
   "execution_count": 5,
   "id": "1e66a9f4",
   "metadata": {},
   "outputs": [
    {
     "data": {
      "text/plain": [
       "(25723, 24)"
      ]
     },
     "execution_count": 5,
     "metadata": {},
     "output_type": "execute_result"
    }
   ],
   "source": [
    "data.shape"
   ]
  },
  {
   "cell_type": "code",
   "execution_count": 6,
   "id": "7f523a93",
   "metadata": {},
   "outputs": [
    {
     "name": "stdout",
     "output_type": "stream",
     "text": [
      "<class 'pandas.core.frame.DataFrame'>\n",
      "RangeIndex: 25723 entries, 0 to 25722\n",
      "Data columns (total 24 columns):\n",
      " #   Column                  Non-Null Count  Dtype  \n",
      "---  ------                  --------------  -----  \n",
      " 0   case_number             8702 non-null   object \n",
      " 1   date                    6302 non-null   object \n",
      " 2   year                    6300 non-null   float64\n",
      " 3   type                    6298 non-null   object \n",
      " 4   country                 6252 non-null   object \n",
      " 5   area                    5847 non-null   object \n",
      " 6   location                5762 non-null   object \n",
      " 7   activity                5758 non-null   object \n",
      " 8   name                    6092 non-null   object \n",
      " 9   sex_                    5737 non-null   object \n",
      " 10  age                     3471 non-null   object \n",
      " 11  injury                  6274 non-null   object \n",
      " 12  fatal_y_n               5763 non-null   object \n",
      " 13  time                    2948 non-null   object \n",
      " 14  species_                3464 non-null   object \n",
      " 15  investigator_or_source  6285 non-null   object \n",
      " 16  pdf                     6302 non-null   object \n",
      " 17  href_formula            6301 non-null   object \n",
      " 18  href                    6302 non-null   object \n",
      " 19  case_number_1           6302 non-null   object \n",
      " 20  case_number_2           6302 non-null   object \n",
      " 21  original_order          6309 non-null   float64\n",
      " 22  unnamed_22              1 non-null      object \n",
      " 23  unnamed_23              2 non-null      object \n",
      "dtypes: float64(2), object(22)\n",
      "memory usage: 22.8 MB\n"
     ]
    }
   ],
   "source": [
    "data.info(memory_usage='deep')"
   ]
  },
  {
   "cell_type": "code",
   "execution_count": 7,
   "id": "186e3487",
   "metadata": {},
   "outputs": [
    {
     "data": {
      "text/plain": [
       "Index(['case_number', 'date', 'year', 'type', 'country', 'area', 'location',\n",
       "       'activity', 'name', 'sex_', 'age', 'injury', 'fatal_y_n', 'time',\n",
       "       'species_', 'investigator_or_source', 'pdf', 'href_formula', 'href',\n",
       "       'case_number_1', 'case_number_2', 'original_order', 'unnamed_22',\n",
       "       'unnamed_23'],\n",
       "      dtype='object')"
      ]
     },
     "execution_count": 7,
     "metadata": {},
     "output_type": "execute_result"
    }
   ],
   "source": [
    "data.columns"
   ]
  },
  {
   "cell_type": "code",
   "execution_count": 8,
   "id": "2fd103be",
   "metadata": {},
   "outputs": [
    {
     "data": {
      "text/plain": [
       "case_number    17021\n",
       "date           19421\n",
       "year           19423\n",
       "type           19425\n",
       "country        19471\n",
       "dtype: int64"
      ]
     },
     "execution_count": 8,
     "metadata": {},
     "output_type": "execute_result"
    }
   ],
   "source": [
    "nan_cols=data.isna().sum()\n",
    "nan_cols.head()"
   ]
  },
  {
   "cell_type": "code",
   "execution_count": 9,
   "id": "0922d7b9",
   "metadata": {},
   "outputs": [
    {
     "data": {
      "image/png": "[encoded data removed]",
      "text/plain": [
       "<Figure size 720x432 with 1 Axes>"
      ]
     },
     "metadata": {
      "needs_background": "light"
     },
     "output_type": "display_data"
    }
   ],
   "source": [
    "plt.figure(figsize=(10, 6))\n",
    "\n",
    "sns.heatmap(data.isna(),  # mapa de calor\n",
    "            yticklabels=False,\n",
    "            cmap='viridis',\n",
    "            cbar=False);"
   ]
  },
  {
   "cell_type": "code",
   "execution_count": 10,
   "id": "3cb64843",
   "metadata": {},
   "outputs": [],
   "source": [
    "# Funcion que chequea los valores nulos y devuelve un histograma con ellos en forma de mapa de calor\n",
    "\n",
    "def check_nan(df):\n",
    "    \n",
    "    nan_cols=df.isna().mean() * 100\n",
    "    \n",
    "    display(f'N nan cols: {len(nan_cols[nan_cols>0])}')\n",
    "    display(nan_cols[nan_cols>0])\n",
    "    \n",
    "    plt.figure(figsize=(10, 6))\n",
    "\n",
    "    sns.heatmap(df.isna(),  \n",
    "                yticklabels=False,\n",
    "                cmap='viridis',\n",
    "                cbar=False)\n",
    "    \n",
    "    plt.show();"
   ]
  },
  {
   "cell_type": "markdown",
   "id": "5d1c7155",
   "metadata": {},
   "source": [
    "## Subset si filas nulas"
   ]
  },
  {
   "cell_type": "code",
   "execution_count": 11,
   "id": "962d710d",
   "metadata": {},
   "outputs": [],
   "source": [
    "# Me creo un dataset con las filas que son todo nulos.\n",
    "\n",
    "data_null = data[data.isna().all(axis=1)]\n"
   ]
  },
  {
   "cell_type": "code",
   "execution_count": 12,
   "id": "22691754",
   "metadata": {},
   "outputs": [],
   "source": [
    "# Me creo un subset con las filas que tiene al menos dato.\n",
    "\n",
    "subset = data[data.notna().any(axis=1)]\n"
   ]
  },
  {
   "cell_type": "code",
   "execution_count": 13,
   "id": "c7ee450f",
   "metadata": {},
   "outputs": [
    {
     "data": {
      "text/plain": [
       "(8703, 24)"
      ]
     },
     "execution_count": 13,
     "metadata": {},
     "output_type": "execute_result"
    }
   ],
   "source": [
    "subset.shape"
   ]
  },
  {
   "cell_type": "code",
   "execution_count": 14,
   "id": "6b960979",
   "metadata": {},
   "outputs": [],
   "source": [
    "# Sustituyo todos los valores de la columna unnamed_22 y unnamed_23\n",
    "\n",
    "subset.unnamed_22 = 'unknown'\n",
    "subset.unnamed_23 = 'unknown'\n"
   ]
  },
  {
   "cell_type": "code",
   "execution_count": 15,
   "id": "06949394",
   "metadata": {},
   "outputs": [
    {
     "name": "stdout",
     "output_type": "stream",
     "text": [
      "<class 'pandas.core.frame.DataFrame'>\n",
      "Int64Index: 8703 entries, 0 to 25722\n",
      "Data columns (total 24 columns):\n",
      " #   Column                  Non-Null Count  Dtype  \n",
      "---  ------                  --------------  -----  \n",
      " 0   case_number             8702 non-null   object \n",
      " 1   date                    6302 non-null   object \n",
      " 2   year                    6300 non-null   float64\n",
      " 3   type                    6298 non-null   object \n",
      " 4   country                 6252 non-null   object \n",
      " 5   area                    5847 non-null   object \n",
      " 6   location                5762 non-null   object \n",
      " 7   activity                5758 non-null   object \n",
      " 8   name                    6092 non-null   object \n",
      " 9   sex_                    5737 non-null   object \n",
      " 10  age                     3471 non-null   object \n",
      " 11  injury                  6274 non-null   object \n",
      " 12  fatal_y_n               5763 non-null   object \n",
      " 13  time                    2948 non-null   object \n",
      " 14  species_                3464 non-null   object \n",
      " 15  investigator_or_source  6285 non-null   object \n",
      " 16  pdf                     6302 non-null   object \n",
      " 17  href_formula            6301 non-null   object \n",
      " 18  href                    6302 non-null   object \n",
      " 19  case_number_1           6302 non-null   object \n",
      " 20  case_number_2           6302 non-null   object \n",
      " 21  original_order          6309 non-null   float64\n",
      " 22  unnamed_22              8703 non-null   object \n",
      " 23  unnamed_23              8703 non-null   object \n",
      "dtypes: float64(2), object(22)\n",
      "memory usage: 1.7+ MB\n"
     ]
    }
   ],
   "source": [
    "subset.info()"
   ]
  },
  {
   "cell_type": "code",
   "execution_count": 16,
   "id": "43b6d0f1",
   "metadata": {},
   "outputs": [
    {
     "data": {
      "text/plain": [
       "False"
      ]
     },
     "execution_count": 16,
     "metadata": {},
     "output_type": "execute_result"
    }
   ],
   "source": [
    "# Comprobar si hay duplicados, comprobando el numero de filas es la misma\n",
    "\n",
    "len(subset.drop_duplicates())==len(subset)  "
   ]
  },
  {
   "cell_type": "code",
   "execution_count": 17,
   "id": "ece3e751",
   "metadata": {},
   "outputs": [
    {
     "data": {
      "text/plain": [
       "'N nan cols: 22'"
      ]
     },
     "metadata": {},
     "output_type": "display_data"
    },
    {
     "data": {
      "text/plain": [
       "case_number                0.011490\n",
       "date                      27.588188\n",
       "year                      27.611169\n",
       "type                      27.634149\n",
       "country                   28.162703\n",
       "area                      32.816270\n",
       "location                  33.792945\n",
       "activity                  33.838906\n",
       "name                      30.001149\n",
       "sex_                      34.080202\n",
       "age                       60.117201\n",
       "injury                    27.909916\n",
       "fatal_y_n                 33.781455\n",
       "time                      66.126623\n",
       "species_                  60.197633\n",
       "investigator_or_source    27.783523\n",
       "pdf                       27.588188\n",
       "href_formula              27.599678\n",
       "href                      27.588188\n",
       "case_number_1             27.588188\n",
       "case_number_2             27.588188\n",
       "original_order            27.507756\n",
       "dtype: float64"
      ]
     },
     "metadata": {},
     "output_type": "display_data"
    },
    {
     "data": {
      "image/png": "[encoded data removed]",
      "text/plain": [
       "<Figure size 720x432 with 1 Axes>"
      ]
     },
     "metadata": {
      "needs_background": "light"
     },
     "output_type": "display_data"
    }
   ],
   "source": [
    "check_nan(subset)"
   ]
  },
  {
   "cell_type": "code",
   "execution_count": 18,
   "id": "a69748a0",
   "metadata": {},
   "outputs": [
    {
     "data": {
      "text/plain": [
       "2403"
      ]
     },
     "execution_count": 18,
     "metadata": {},
     "output_type": "execute_result"
    }
   ],
   "source": [
    "subset.year.isna().sum()"
   ]
  },
  {
   "cell_type": "markdown",
   "id": "d7f66f02",
   "metadata": {},
   "source": [
    "## Subset sin filas con practicamente todo nulos"
   ]
  },
  {
   "cell_type": "code",
   "execution_count": 19,
   "id": "95308849",
   "metadata": {},
   "outputs": [],
   "source": [
    "# Creo un dataset en la que elimino columnas con las que quiero filtras.\n",
    "\n",
    "filters_cols = subset.columns.drop(['case_number', 'original_order', 'unnamed_22', 'unnamed_23'])\n",
    "\n",
    "# Me creo un data set con lo que elimino\n",
    "\n",
    "\n",
    "data_null2 = subset[subset[filters_cols].isnull().all(axis=1)]\n",
    "\n",
    "# Me creo un dataset mas limpio con el que voy a seguir trabajando\n",
    "\n",
    "\n",
    "subset1 = subset[subset[filters_cols].notnull().any(axis=1)]\n"
   ]
  },
  {
   "cell_type": "code",
   "execution_count": 20,
   "id": "469eb136",
   "metadata": {},
   "outputs": [
    {
     "data": {
      "text/plain": [
       "'N nan cols: 16'"
      ]
     },
     "metadata": {},
     "output_type": "display_data"
    },
    {
     "data": {
      "text/plain": [
       "case_number                0.015868\n",
       "year                       0.031736\n",
       "type                       0.063472\n",
       "country                    0.793399\n",
       "area                       7.219930\n",
       "location                   8.568708\n",
       "activity                   8.632180\n",
       "name                       3.332275\n",
       "sex_                       8.965408\n",
       "age                       44.922247\n",
       "injury                     0.444303\n",
       "fatal_y_n                  8.552840\n",
       "time                      53.221200\n",
       "species_                  45.033323\n",
       "investigator_or_source     0.269756\n",
       "href_formula               0.015868\n",
       "dtype: float64"
      ]
     },
     "metadata": {},
     "output_type": "display_data"
    },
    {
     "data": {
      "image/png": "[encoded data removed]",
      "text/plain": [
       "<Figure size 720x432 with 1 Axes>"
      ]
     },
     "metadata": {
      "needs_background": "light"
     },
     "output_type": "display_data"
    }
   ],
   "source": [
    "check_nan(subset1)"
   ]
  },
  {
   "cell_type": "code",
   "execution_count": 21,
   "id": "13281358",
   "metadata": {},
   "outputs": [
    {
     "name": "stdout",
     "output_type": "stream",
     "text": [
      "<class 'pandas.core.frame.DataFrame'>\n",
      "Int64Index: 6302 entries, 0 to 6301\n",
      "Data columns (total 24 columns):\n",
      " #   Column                  Non-Null Count  Dtype  \n",
      "---  ------                  --------------  -----  \n",
      " 0   case_number             6301 non-null   object \n",
      " 1   date                    6302 non-null   object \n",
      " 2   year                    6300 non-null   float64\n",
      " 3   type                    6298 non-null   object \n",
      " 4   country                 6252 non-null   object \n",
      " 5   area                    5847 non-null   object \n",
      " 6   location                5762 non-null   object \n",
      " 7   activity                5758 non-null   object \n",
      " 8   name                    6092 non-null   object \n",
      " 9   sex_                    5737 non-null   object \n",
      " 10  age                     3471 non-null   object \n",
      " 11  injury                  6274 non-null   object \n",
      " 12  fatal_y_n               5763 non-null   object \n",
      " 13  time                    2948 non-null   object \n",
      " 14  species_                3464 non-null   object \n",
      " 15  investigator_or_source  6285 non-null   object \n",
      " 16  pdf                     6302 non-null   object \n",
      " 17  href_formula            6301 non-null   object \n",
      " 18  href                    6302 non-null   object \n",
      " 19  case_number_1           6302 non-null   object \n",
      " 20  case_number_2           6302 non-null   object \n",
      " 21  original_order          6302 non-null   float64\n",
      " 22  unnamed_22              6302 non-null   object \n",
      " 23  unnamed_23              6302 non-null   object \n",
      "dtypes: float64(2), object(22)\n",
      "memory usage: 1.2+ MB\n"
     ]
    }
   ],
   "source": [
    "subset1.info()"
   ]
  },
  {
   "cell_type": "code",
   "execution_count": 22,
   "id": "6332f64a",
   "metadata": {},
   "outputs": [
    {
     "data": {
      "text/plain": [
       "6302"
      ]
     },
     "execution_count": 22,
     "metadata": {},
     "output_type": "execute_result"
    }
   ],
   "source": [
    "len(subset1)"
   ]
  },
  {
   "cell_type": "code",
   "execution_count": 23,
   "id": "fc5b7ee2",
   "metadata": {},
   "outputs": [],
   "source": [
    "pd.set_option('display.max_rows', None)"
   ]
  },
  {
   "cell_type": "code",
   "execution_count": 24,
   "id": "1bc7aa48",
   "metadata": {
    "scrolled": true
   },
   "outputs": [
    {
     "data": {
      "text/plain": [
       "True"
      ]
     },
     "execution_count": 24,
     "metadata": {},
     "output_type": "execute_result"
    }
   ],
   "source": [
    "# Compruebo si hay duplicado, en este caso no los hay\n",
    "\n",
    "len(subset1.drop_duplicates())==len(subset1)"
   ]
  },
  {
   "cell_type": "markdown",
   "id": "c1e82ee3",
   "metadata": {},
   "source": [
    "## Empiezo a analizar mi subset y limpiar\n"
   ]
  },
  {
   "cell_type": "code",
   "execution_count": 25,
   "id": "482f956c",
   "metadata": {},
   "outputs": [
    {
     "data": {
      "text/plain": [
       "0    2018.06.25\n",
       "1    2018.06.18\n",
       "2    2018.06.09\n",
       "3    2018.06.08\n",
       "4    2018.06.04\n",
       "Name: case_number, dtype: object"
      ]
     },
     "execution_count": 25,
     "metadata": {},
     "output_type": "execute_result"
    }
   ],
   "source": [
    "subset1.case_number.head() "
   ]
  },
  {
   "cell_type": "code",
   "execution_count": 26,
   "id": "52b80057",
   "metadata": {},
   "outputs": [
    {
     "data": {
      "text/plain": [
       "1983.06.15      2\n",
       "1913.08.27.R    2\n",
       "2009.12.18      2\n",
       "2014.08.02      2\n",
       "1920.00.00.b    2\n",
       "Name: case_number, dtype: int64"
      ]
     },
     "execution_count": 26,
     "metadata": {},
     "output_type": "execute_result"
    }
   ],
   "source": [
    "subset1.case_number.value_counts().head()"
   ]
  },
  {
   "cell_type": "code",
   "execution_count": 27,
   "id": "9ebf8e00",
   "metadata": {
    "scrolled": true
   },
   "outputs": [
    {
     "data": {
      "text/plain": [
       "Index(['case_number', 'date', 'year', 'type', 'country', 'area', 'location',\n",
       "       'activity', 'name', 'sex_', 'age', 'injury', 'fatal_y_n', 'time',\n",
       "       'species_', 'investigator_or_source', 'pdf', 'href_formula', 'href',\n",
       "       'case_number_1', 'case_number_2', 'original_order', 'unnamed_22',\n",
       "       'unnamed_23'],\n",
       "      dtype='object')"
      ]
     },
     "execution_count": 27,
     "metadata": {},
     "output_type": "execute_result"
    }
   ],
   "source": [
    "subset1.columns"
   ]
  },
  {
   "cell_type": "markdown",
   "id": "8a6f2f85",
   "metadata": {},
   "source": [
    "### case_number"
   ]
  },
  {
   "cell_type": "code",
   "execution_count": 28,
   "id": "ef051749",
   "metadata": {},
   "outputs": [],
   "source": [
    "# Reviso case_number y está todo en orden"
   ]
  },
  {
   "cell_type": "code",
   "execution_count": 29,
   "id": "62e20865",
   "metadata": {},
   "outputs": [
    {
     "data": {
      "text/plain": [
       "0    2018.06.25\n",
       "1    2018.06.18\n",
       "2    2018.06.09\n",
       "3    2018.06.08\n",
       "4    2018.06.04\n",
       "Name: case_number, dtype: object"
      ]
     },
     "execution_count": 29,
     "metadata": {},
     "output_type": "execute_result"
    }
   ],
   "source": [
    "subset1.case_number.head() "
   ]
  },
  {
   "cell_type": "code",
   "execution_count": 30,
   "id": "40f7948f",
   "metadata": {},
   "outputs": [
    {
     "data": {
      "text/plain": [
       "1983.06.15      2\n",
       "1913.08.27.R    2\n",
       "2009.12.18      2\n",
       "2014.08.02      2\n",
       "1920.00.00.b    2\n",
       "Name: case_number, dtype: int64"
      ]
     },
     "execution_count": 30,
     "metadata": {},
     "output_type": "execute_result"
    }
   ],
   "source": [
    "subset1.case_number.value_counts().head()"
   ]
  },
  {
   "cell_type": "code",
   "execution_count": 31,
   "id": "937e6a84",
   "metadata": {
    "scrolled": true
   },
   "outputs": [
    {
     "data": {
      "text/plain": [
       "1"
      ]
     },
     "execution_count": 31,
     "metadata": {},
     "output_type": "execute_result"
    }
   ],
   "source": [
    "# Miro a ver si hay valores nulos\n",
    "\n",
    "subset1.case_number.isnull().sum()"
   ]
  },
  {
   "cell_type": "code",
   "execution_count": 32,
   "id": "5280b3b3",
   "metadata": {},
   "outputs": [],
   "source": [
    "# Remplazo los valores nulos en la columna con \"unknown\"\n",
    "\n",
    "subset1.case_number.fillna(\"unknown\", inplace=True)"
   ]
  },
  {
   "cell_type": "markdown",
   "id": "56203791",
   "metadata": {},
   "source": [
    "### date"
   ]
  },
  {
   "cell_type": "code",
   "execution_count": 33,
   "id": "8a0ada76",
   "metadata": {
    "scrolled": false
   },
   "outputs": [],
   "source": [
    "# Remplazo en date \"Reported\" por \"\"\n",
    "\n",
    "subset1.date = subset1.date.str.replace(\"Reported\", \"\")"
   ]
  },
  {
   "cell_type": "markdown",
   "id": "8bf364f3",
   "metadata": {},
   "source": [
    "### year"
   ]
  },
  {
   "cell_type": "code",
   "execution_count": 34,
   "id": "dc98d2ee",
   "metadata": {},
   "outputs": [
    {
     "data": {
      "text/plain": [
       "2"
      ]
     },
     "execution_count": 34,
     "metadata": {},
     "output_type": "execute_result"
    }
   ],
   "source": [
    "# Miro si hay nulos y remplazo por 0\n",
    "\n",
    "subset1.year.isnull().sum()"
   ]
  },
  {
   "cell_type": "code",
   "execution_count": 35,
   "id": "79e6c0f2",
   "metadata": {},
   "outputs": [],
   "source": [
    "subset1.year.fillna(0, inplace=True)"
   ]
  },
  {
   "cell_type": "code",
   "execution_count": 36,
   "id": "e2195923",
   "metadata": {},
   "outputs": [],
   "source": [
    "# Cambio el dtype de \"object\" a \"int16\"\n",
    "\n",
    "subset1.year = subset1.year.astype(dtype='int16')"
   ]
  },
  {
   "cell_type": "markdown",
   "id": "295d0573",
   "metadata": {},
   "source": [
    "### type"
   ]
  },
  {
   "cell_type": "code",
   "execution_count": 37,
   "id": "6eae673b",
   "metadata": {},
   "outputs": [],
   "source": [
    "# Remplazo ciertos valores"
   ]
  },
  {
   "cell_type": "code",
   "execution_count": 38,
   "id": "9baac8a3",
   "metadata": {},
   "outputs": [],
   "source": [
    "subset1.type = subset1.type.str.replace(\"Boating\", \"Boat\")\n",
    "subset1.type = subset1.type.str.replace(\"Boatomg\", \"Boat\")"
   ]
  },
  {
   "cell_type": "code",
   "execution_count": 39,
   "id": "23902416",
   "metadata": {},
   "outputs": [
    {
     "data": {
      "text/plain": [
       "4"
      ]
     },
     "execution_count": 39,
     "metadata": {},
     "output_type": "execute_result"
    }
   ],
   "source": [
    "subset1.type.isnull().sum()"
   ]
  },
  {
   "cell_type": "code",
   "execution_count": 40,
   "id": "efd0b6e6",
   "metadata": {},
   "outputs": [],
   "source": [
    "# Relleno valores nulos con \"Questionable\""
   ]
  },
  {
   "cell_type": "code",
   "execution_count": 41,
   "id": "910b318b",
   "metadata": {},
   "outputs": [],
   "source": [
    "subset1.type.fillna(\"Questionable\", inplace=True)"
   ]
  },
  {
   "cell_type": "markdown",
   "id": "0adadcba",
   "metadata": {},
   "source": [
    "### country"
   ]
  },
  {
   "cell_type": "code",
   "execution_count": 42,
   "id": "1049a78a",
   "metadata": {},
   "outputs": [],
   "source": [
    "# Relleno con \"unknown\" los valores nulos"
   ]
  },
  {
   "cell_type": "code",
   "execution_count": 43,
   "id": "1ac5af83",
   "metadata": {},
   "outputs": [
    {
     "data": {
      "text/plain": [
       "50"
      ]
     },
     "execution_count": 43,
     "metadata": {},
     "output_type": "execute_result"
    }
   ],
   "source": [
    "subset1.country.isnull().sum()"
   ]
  },
  {
   "cell_type": "code",
   "execution_count": 44,
   "id": "45dc1669",
   "metadata": {},
   "outputs": [],
   "source": [
    "subset1.country.fillna(\"unknown\", inplace=True)"
   ]
  },
  {
   "cell_type": "markdown",
   "id": "9b2f620e",
   "metadata": {},
   "source": [
    "### area"
   ]
  },
  {
   "cell_type": "code",
   "execution_count": 45,
   "id": "7799abc1",
   "metadata": {},
   "outputs": [
    {
     "data": {
      "text/plain": [
       "455"
      ]
     },
     "execution_count": 45,
     "metadata": {},
     "output_type": "execute_result"
    }
   ],
   "source": [
    "subset1.area.isnull().sum()"
   ]
  },
  {
   "cell_type": "code",
   "execution_count": 46,
   "id": "0bfd233b",
   "metadata": {},
   "outputs": [],
   "source": [
    "subset1.area.fillna(\"unknown\", inplace=True)"
   ]
  },
  {
   "cell_type": "markdown",
   "id": "adc068b2",
   "metadata": {},
   "source": [
    "### location"
   ]
  },
  {
   "cell_type": "code",
   "execution_count": 47,
   "id": "b0246696",
   "metadata": {},
   "outputs": [
    {
     "data": {
      "text/plain": [
       "540"
      ]
     },
     "execution_count": 47,
     "metadata": {},
     "output_type": "execute_result"
    }
   ],
   "source": [
    "subset1.location.isnull().sum()"
   ]
  },
  {
   "cell_type": "code",
   "execution_count": 48,
   "id": "de7ef309",
   "metadata": {},
   "outputs": [],
   "source": [
    "subset1.location.fillna(\"unknown\", inplace=True)"
   ]
  },
  {
   "cell_type": "markdown",
   "id": "6cabb7e9",
   "metadata": {},
   "source": [
    "### activity"
   ]
  },
  {
   "cell_type": "code",
   "execution_count": 49,
   "id": "d0bb4367",
   "metadata": {},
   "outputs": [
    {
     "data": {
      "text/plain": [
       "544"
      ]
     },
     "execution_count": 49,
     "metadata": {},
     "output_type": "execute_result"
    }
   ],
   "source": [
    "subset1.activity.isnull().sum()"
   ]
  },
  {
   "cell_type": "code",
   "execution_count": 50,
   "id": "a2e7bc53",
   "metadata": {},
   "outputs": [],
   "source": [
    "subset1.activity.fillna(\"unknown\", inplace=True)"
   ]
  },
  {
   "cell_type": "code",
   "execution_count": 51,
   "id": "9155eddb",
   "metadata": {},
   "outputs": [
    {
     "data": {
      "text/plain": [
       "Surfing         971\n",
       "Swimming        869\n",
       "unknown         544\n",
       "Fishing         431\n",
       "Spearfishing    333\n",
       "Name: activity, dtype: int64"
      ]
     },
     "execution_count": 51,
     "metadata": {},
     "output_type": "execute_result"
    }
   ],
   "source": [
    "subset1.activity.value_counts().head()"
   ]
  },
  {
   "cell_type": "markdown",
   "id": "537fe30d",
   "metadata": {},
   "source": [
    "## name"
   ]
  },
  {
   "cell_type": "code",
   "execution_count": 52,
   "id": "e7c81ee6",
   "metadata": {},
   "outputs": [
    {
     "data": {
      "text/plain": [
       "210"
      ]
     },
     "execution_count": 52,
     "metadata": {},
     "output_type": "execute_result"
    }
   ],
   "source": [
    "subset1.name.isnull().sum()\n"
   ]
  },
  {
   "cell_type": "code",
   "execution_count": 53,
   "id": "aa6f302b",
   "metadata": {},
   "outputs": [],
   "source": [
    "subset1.name.fillna(\"unknown\", inplace=True)"
   ]
  },
  {
   "cell_type": "markdown",
   "id": "0ea56d8d",
   "metadata": {},
   "source": [
    "### sex"
   ]
  },
  {
   "cell_type": "code",
   "execution_count": 54,
   "id": "ff605d19",
   "metadata": {},
   "outputs": [],
   "source": [
    "subset1.sex_.fillna(\"unknown\", inplace=True)"
   ]
  },
  {
   "cell_type": "code",
   "execution_count": 55,
   "id": "e7a52947",
   "metadata": {},
   "outputs": [],
   "source": [
    "subset1.sex_ = subset1.sex_.str.replace(\"M\", \"Male\")\n",
    "subset1.sex_ = subset1.sex_.str.replace(\"F\", \"Female\")\n",
    "subset1.sex_ = subset1.sex_.str.replace(\"N\", \"unknown\")\n",
    "subset1.sex_ = subset1.sex_.str.replace(\"lli\", \"unknown\")\n",
    "subset1.sex_ = subset1.sex_.str.replace(\".\", \"unknown\")\n",
    "subset1.sex_ = subset1.sex_.str.replace(\" \", \"\")"
   ]
  },
  {
   "cell_type": "code",
   "execution_count": 56,
   "id": "5640aeb8",
   "metadata": {
    "scrolled": true
   },
   "outputs": [
    {
     "data": {
      "text/plain": [
       "Male       5096\n",
       "Female      637\n",
       "unknown     569\n",
       "Name: sex_, dtype: int64"
      ]
     },
     "execution_count": 56,
     "metadata": {},
     "output_type": "execute_result"
    }
   ],
   "source": [
    "subset1.sex_.value_counts()"
   ]
  },
  {
   "cell_type": "code",
   "execution_count": 57,
   "id": "5088b81b",
   "metadata": {},
   "outputs": [
    {
     "data": {
      "text/plain": [
       "array(['Female', 'Male', 'unknown'], dtype=object)"
      ]
     },
     "execution_count": 57,
     "metadata": {},
     "output_type": "execute_result"
    }
   ],
   "source": [
    "subset1.sex_.unique()"
   ]
  },
  {
   "cell_type": "markdown",
   "id": "a393b31c",
   "metadata": {},
   "source": [
    "### age"
   ]
  },
  {
   "cell_type": "code",
   "execution_count": 58,
   "id": "8072938b",
   "metadata": {},
   "outputs": [
    {
     "data": {
      "text/plain": [
       "2831"
      ]
     },
     "execution_count": 58,
     "metadata": {},
     "output_type": "execute_result"
    }
   ],
   "source": [
    "subset1.age.isna().sum()"
   ]
  },
  {
   "cell_type": "code",
   "execution_count": 59,
   "id": "5baa50fb",
   "metadata": {},
   "outputs": [],
   "source": [
    "subset1.age.fillna(\"0\", inplace=True)"
   ]
  },
  {
   "cell_type": "code",
   "execution_count": 60,
   "id": "f31cc2d3",
   "metadata": {},
   "outputs": [],
   "source": [
    "# Uso regex para filtrar en data set los datos que contienen datos que no son numerico '\\D'\n",
    "\n",
    "subset1.age[subset1.age.str.contains(r'\\D')] = \"0\""
   ]
  },
  {
   "cell_type": "code",
   "execution_count": 61,
   "id": "47241107",
   "metadata": {},
   "outputs": [],
   "source": [
    "# Cambiar el tipo de dtype de \"object\" a \"integer\"\n",
    "\n",
    "subset1.age = subset1.age.astype(dtype='int8')"
   ]
  },
  {
   "cell_type": "markdown",
   "id": "764d541d",
   "metadata": {},
   "source": [
    "### injury"
   ]
  },
  {
   "cell_type": "code",
   "execution_count": 62,
   "id": "6b4d0955",
   "metadata": {},
   "outputs": [
    {
     "data": {
      "text/plain": [
       "28"
      ]
     },
     "execution_count": 62,
     "metadata": {},
     "output_type": "execute_result"
    }
   ],
   "source": [
    "subset1.injury.isna().sum()"
   ]
  },
  {
   "cell_type": "code",
   "execution_count": 63,
   "id": "bffe4a4e",
   "metadata": {},
   "outputs": [],
   "source": [
    "subset1.injury.fillna(\"unknown\", inplace=True)"
   ]
  },
  {
   "cell_type": "code",
   "execution_count": 87,
   "id": "dc957d62",
   "metadata": {},
   "outputs": [
    {
     "data": {
      "text/plain": [
       "3737"
      ]
     },
     "execution_count": 87,
     "metadata": {},
     "output_type": "execute_result"
    }
   ],
   "source": [
    "len(subset1.injury.unique())"
   ]
  },
  {
   "cell_type": "markdown",
   "id": "13b8ce46",
   "metadata": {},
   "source": [
    "### fatal_y_n"
   ]
  },
  {
   "cell_type": "code",
   "execution_count": 64,
   "id": "d622b8e0",
   "metadata": {
    "scrolled": true
   },
   "outputs": [
    {
     "data": {
      "text/plain": [
       "539"
      ]
     },
     "execution_count": 64,
     "metadata": {},
     "output_type": "execute_result"
    }
   ],
   "source": [
    "subset1.fatal_y_n.isna().sum()"
   ]
  },
  {
   "cell_type": "code",
   "execution_count": 65,
   "id": "ac10776e",
   "metadata": {},
   "outputs": [],
   "source": [
    "subset1.fatal_y_n.fillna(\"unknown\", inplace=True)"
   ]
  },
  {
   "cell_type": "code",
   "execution_count": 66,
   "id": "64011cf4",
   "metadata": {},
   "outputs": [],
   "source": [
    "subset1.fatal_y_n = subset1.fatal_y_n.str.replace(\" \", \"\")\n",
    "subset1.fatal_y_n = subset1.fatal_y_n.str.upper()\n",
    "subset1.fatal_y_n = subset1.fatal_y_n.str.replace(\"M\", \"UNKNOWN\")\n",
    "subset1.fatal_y_n = subset1.fatal_y_n.str.replace(\"2017\", \"UNKNOWN\")"
   ]
  },
  {
   "cell_type": "code",
   "execution_count": 89,
   "id": "98085d72",
   "metadata": {},
   "outputs": [
    {
     "data": {
      "text/plain": [
       "N          4301\n",
       "Y          1389\n",
       "UNKNOWN     612\n",
       "Name: fatal_y_n, dtype: int64"
      ]
     },
     "execution_count": 89,
     "metadata": {},
     "output_type": "execute_result"
    }
   ],
   "source": [
    "subset1.fatal_y_n.value_counts()"
   ]
  },
  {
   "cell_type": "markdown",
   "id": "cb22e1dd",
   "metadata": {},
   "source": [
    "### time"
   ]
  },
  {
   "cell_type": "code",
   "execution_count": 68,
   "id": "088aa58c",
   "metadata": {},
   "outputs": [
    {
     "data": {
      "text/plain": [
       "3354"
      ]
     },
     "execution_count": 68,
     "metadata": {},
     "output_type": "execute_result"
    }
   ],
   "source": [
    "subset1.time.isna().sum()"
   ]
  },
  {
   "cell_type": "code",
   "execution_count": 69,
   "id": "92fbcfaf",
   "metadata": {},
   "outputs": [],
   "source": [
    "subset1.time.fillna(\"unknown\", inplace=True)"
   ]
  },
  {
   "cell_type": "markdown",
   "id": "ab666f13",
   "metadata": {},
   "source": [
    "### species_"
   ]
  },
  {
   "cell_type": "code",
   "execution_count": 71,
   "id": "fe70c99e",
   "metadata": {},
   "outputs": [
    {
     "data": {
      "text/plain": [
       "2838"
      ]
     },
     "execution_count": 71,
     "metadata": {},
     "output_type": "execute_result"
    }
   ],
   "source": [
    "subset1.species_.isna().sum()"
   ]
  },
  {
   "cell_type": "code",
   "execution_count": 72,
   "id": "be32243f",
   "metadata": {},
   "outputs": [],
   "source": [
    "subset1.species_.fillna(\"unknown\", inplace=True)"
   ]
  },
  {
   "cell_type": "markdown",
   "id": "a8e3d06e",
   "metadata": {},
   "source": [
    "### investigator_or_source"
   ]
  },
  {
   "cell_type": "code",
   "execution_count": 73,
   "id": "64b8e24b",
   "metadata": {},
   "outputs": [
    {
     "data": {
      "text/plain": [
       "17"
      ]
     },
     "execution_count": 73,
     "metadata": {},
     "output_type": "execute_result"
    }
   ],
   "source": [
    "subset1.investigator_or_source.isna().sum()"
   ]
  },
  {
   "cell_type": "code",
   "execution_count": 74,
   "id": "305faee8",
   "metadata": {},
   "outputs": [],
   "source": [
    "subset1.investigator_or_source.fillna(\"unknown\", inplace=True)"
   ]
  },
  {
   "cell_type": "markdown",
   "id": "83ab393f",
   "metadata": {},
   "source": [
    "### pdf"
   ]
  },
  {
   "cell_type": "code",
   "execution_count": 75,
   "id": "31b652ad",
   "metadata": {},
   "outputs": [
    {
     "data": {
      "text/plain": [
       "0"
      ]
     },
     "execution_count": 75,
     "metadata": {},
     "output_type": "execute_result"
    }
   ],
   "source": [
    "subset1.pdf.isna().sum()"
   ]
  },
  {
   "cell_type": "markdown",
   "id": "975e556c",
   "metadata": {},
   "source": [
    "### href_formula"
   ]
  },
  {
   "cell_type": "code",
   "execution_count": 76,
   "id": "e80abfb1",
   "metadata": {},
   "outputs": [
    {
     "data": {
      "text/plain": [
       "1"
      ]
     },
     "execution_count": 76,
     "metadata": {},
     "output_type": "execute_result"
    }
   ],
   "source": [
    "subset1.href_formula.isna().sum()"
   ]
  },
  {
   "cell_type": "code",
   "execution_count": 77,
   "id": "ad2e5394",
   "metadata": {},
   "outputs": [],
   "source": [
    "subset1.href_formula.fillna(\"unknow\", inplace=True)"
   ]
  },
  {
   "cell_type": "markdown",
   "id": "02690aad",
   "metadata": {},
   "source": [
    "### href"
   ]
  },
  {
   "cell_type": "code",
   "execution_count": 78,
   "id": "89fda48c",
   "metadata": {},
   "outputs": [
    {
     "data": {
      "text/plain": [
       "0    http://sharkattackfile.net/spreadsheets/pdf_di...\n",
       "1    http://sharkattackfile.net/spreadsheets/pdf_di...\n",
       "2    http://sharkattackfile.net/spreadsheets/pdf_di...\n",
       "3    http://sharkattackfile.net/spreadsheets/pdf_di...\n",
       "4    http://sharkattackfile.net/spreadsheets/pdf_di...\n",
       "Name: href, dtype: object"
      ]
     },
     "execution_count": 78,
     "metadata": {},
     "output_type": "execute_result"
    }
   ],
   "source": [
    "subset1.href.head()"
   ]
  },
  {
   "cell_type": "markdown",
   "id": "b87fde36",
   "metadata": {},
   "source": [
    "### case_number_1"
   ]
  },
  {
   "cell_type": "code",
   "execution_count": 79,
   "id": "5217ac60",
   "metadata": {},
   "outputs": [
    {
     "data": {
      "text/plain": [
       "0    2018.06.25\n",
       "1    2018.06.18\n",
       "2    2018.06.09\n",
       "3    2018.06.08\n",
       "4    2018.06.04\n",
       "Name: case_number_1, dtype: object"
      ]
     },
     "execution_count": 79,
     "metadata": {},
     "output_type": "execute_result"
    }
   ],
   "source": [
    "subset1.case_number_1.head()"
   ]
  },
  {
   "cell_type": "markdown",
   "id": "62975768",
   "metadata": {},
   "source": [
    "### case_number_2"
   ]
  },
  {
   "cell_type": "code",
   "execution_count": 80,
   "id": "17aa3bc9",
   "metadata": {},
   "outputs": [
    {
     "data": {
      "text/plain": [
       "0    2018.06.25\n",
       "1    2018.06.18\n",
       "2    2018.06.09\n",
       "3    2018.06.08\n",
       "4    2018.06.04\n",
       "Name: case_number_2, dtype: object"
      ]
     },
     "execution_count": 80,
     "metadata": {},
     "output_type": "execute_result"
    }
   ],
   "source": [
    "subset1.case_number_2.head()"
   ]
  },
  {
   "cell_type": "markdown",
   "id": "9829dae4",
   "metadata": {},
   "source": [
    "###  original_order"
   ]
  },
  {
   "cell_type": "code",
   "execution_count": 81,
   "id": "85a0fc99",
   "metadata": {},
   "outputs": [
    {
     "data": {
      "text/plain": [
       "0    6303.0\n",
       "1    6302.0\n",
       "2    6301.0\n",
       "3    6300.0\n",
       "4    6299.0\n",
       "Name: original_order, dtype: float64"
      ]
     },
     "execution_count": 81,
     "metadata": {},
     "output_type": "execute_result"
    }
   ],
   "source": [
    "subset1.original_order.head()"
   ]
  },
  {
   "cell_type": "markdown",
   "id": "4bfde2ff",
   "metadata": {},
   "source": [
    "## Reviso mi subset para comprobar como queda"
   ]
  },
  {
   "cell_type": "code",
   "execution_count": 83,
   "id": "0f59b7db",
   "metadata": {},
   "outputs": [
    {
     "data": {
      "text/html": [
       "<div>\n",
       "<style scoped>\n",
       "    .dataframe tbody tr th:only-of-type {\n",
       "        vertical-align: middle;\n",
       "    }\n",
       "\n",
       "    .dataframe tbody tr th {\n",
       "        vertical-align: top;\n",
       "    }\n",
       "\n",
       "    .dataframe thead th {\n",
       "        text-align: right;\n",
       "    }\n",
       "</style>\n",
       "<table border=\"1\" class=\"dataframe\">\n",
       "  <thead>\n",
       "    <tr style=\"text-align: right;\">\n",
       "      <th></th>\n",
       "      <th>case_number</th>\n",
       "      <th>date</th>\n",
       "      <th>year</th>\n",
       "      <th>type</th>\n",
       "      <th>country</th>\n",
       "      <th>area</th>\n",
       "      <th>location</th>\n",
       "      <th>activity</th>\n",
       "      <th>name</th>\n",
       "      <th>sex_</th>\n",
       "      <th>age</th>\n",
       "      <th>injury</th>\n",
       "      <th>fatal_y_n</th>\n",
       "      <th>time</th>\n",
       "      <th>species_</th>\n",
       "      <th>investigator_or_source</th>\n",
       "      <th>pdf</th>\n",
       "      <th>href_formula</th>\n",
       "      <th>href</th>\n",
       "      <th>case_number_1</th>\n",
       "      <th>case_number_2</th>\n",
       "      <th>original_order</th>\n",
       "      <th>unnamed_22</th>\n",
       "      <th>unnamed_23</th>\n",
       "    </tr>\n",
       "  </thead>\n",
       "  <tbody>\n",
       "    <tr>\n",
       "      <th>0</th>\n",
       "      <td>2018.06.25</td>\n",
       "      <td>25-Jun-2018</td>\n",
       "      <td>2018</td>\n",
       "      <td>Boat</td>\n",
       "      <td>USA</td>\n",
       "      <td>California</td>\n",
       "      <td>Oceanside, San Diego County</td>\n",
       "      <td>Paddling</td>\n",
       "      <td>Julie Wolfe</td>\n",
       "      <td>Female</td>\n",
       "      <td>57</td>\n",
       "      <td>No injury to occupant, outrigger canoe and pad...</td>\n",
       "      <td>N</td>\n",
       "      <td>18h00</td>\n",
       "      <td>White shark</td>\n",
       "      <td>R. Collier, GSAF</td>\n",
       "      <td>2018.06.25-Wolfe.pdf</td>\n",
       "      <td>http://sharkattackfile.net/spreadsheets/pdf_di...</td>\n",
       "      <td>http://sharkattackfile.net/spreadsheets/pdf_di...</td>\n",
       "      <td>2018.06.25</td>\n",
       "      <td>2018.06.25</td>\n",
       "      <td>6303.0</td>\n",
       "      <td>unknown</td>\n",
       "      <td>unknown</td>\n",
       "    </tr>\n",
       "    <tr>\n",
       "      <th>1</th>\n",
       "      <td>2018.06.18</td>\n",
       "      <td>18-Jun-2018</td>\n",
       "      <td>2018</td>\n",
       "      <td>Unprovoked</td>\n",
       "      <td>USA</td>\n",
       "      <td>Georgia</td>\n",
       "      <td>St. Simon Island, Glynn County</td>\n",
       "      <td>Standing</td>\n",
       "      <td>Adyson McNeely</td>\n",
       "      <td>Female</td>\n",
       "      <td>11</td>\n",
       "      <td>Minor injury to left thigh</td>\n",
       "      <td>N</td>\n",
       "      <td>14h00  -15h00</td>\n",
       "      <td>unknown</td>\n",
       "      <td>K.McMurray, TrackingSharks.com</td>\n",
       "      <td>2018.06.18-McNeely.pdf</td>\n",
       "      <td>http://sharkattackfile.net/spreadsheets/pdf_di...</td>\n",
       "      <td>http://sharkattackfile.net/spreadsheets/pdf_di...</td>\n",
       "      <td>2018.06.18</td>\n",
       "      <td>2018.06.18</td>\n",
       "      <td>6302.0</td>\n",
       "      <td>unknown</td>\n",
       "      <td>unknown</td>\n",
       "    </tr>\n",
       "    <tr>\n",
       "      <th>2</th>\n",
       "      <td>2018.06.09</td>\n",
       "      <td>09-Jun-2018</td>\n",
       "      <td>2018</td>\n",
       "      <td>Invalid</td>\n",
       "      <td>USA</td>\n",
       "      <td>Hawaii</td>\n",
       "      <td>Habush, Oahu</td>\n",
       "      <td>Surfing</td>\n",
       "      <td>John Denges</td>\n",
       "      <td>Male</td>\n",
       "      <td>48</td>\n",
       "      <td>Injury to left lower leg from surfboard skeg</td>\n",
       "      <td>N</td>\n",
       "      <td>07h45</td>\n",
       "      <td>unknown</td>\n",
       "      <td>K.McMurray, TrackingSharks.com</td>\n",
       "      <td>2018.06.09-Denges.pdf</td>\n",
       "      <td>http://sharkattackfile.net/spreadsheets/pdf_di...</td>\n",
       "      <td>http://sharkattackfile.net/spreadsheets/pdf_di...</td>\n",
       "      <td>2018.06.09</td>\n",
       "      <td>2018.06.09</td>\n",
       "      <td>6301.0</td>\n",
       "      <td>unknown</td>\n",
       "      <td>unknown</td>\n",
       "    </tr>\n",
       "    <tr>\n",
       "      <th>3</th>\n",
       "      <td>2018.06.08</td>\n",
       "      <td>08-Jun-2018</td>\n",
       "      <td>2018</td>\n",
       "      <td>Unprovoked</td>\n",
       "      <td>AUSTRALIA</td>\n",
       "      <td>New South Wales</td>\n",
       "      <td>Arrawarra Headland</td>\n",
       "      <td>Surfing</td>\n",
       "      <td>male</td>\n",
       "      <td>Male</td>\n",
       "      <td>0</td>\n",
       "      <td>Minor injury to lower leg</td>\n",
       "      <td>N</td>\n",
       "      <td>unknown</td>\n",
       "      <td>2 m shark</td>\n",
       "      <td>B. Myatt, GSAF</td>\n",
       "      <td>2018.06.08-Arrawarra.pdf</td>\n",
       "      <td>http://sharkattackfile.net/spreadsheets/pdf_di...</td>\n",
       "      <td>http://sharkattackfile.net/spreadsheets/pdf_di...</td>\n",
       "      <td>2018.06.08</td>\n",
       "      <td>2018.06.08</td>\n",
       "      <td>6300.0</td>\n",
       "      <td>unknown</td>\n",
       "      <td>unknown</td>\n",
       "    </tr>\n",
       "    <tr>\n",
       "      <th>4</th>\n",
       "      <td>2018.06.04</td>\n",
       "      <td>04-Jun-2018</td>\n",
       "      <td>2018</td>\n",
       "      <td>Provoked</td>\n",
       "      <td>MEXICO</td>\n",
       "      <td>Colima</td>\n",
       "      <td>La Ticla</td>\n",
       "      <td>Free diving</td>\n",
       "      <td>Gustavo Ramos</td>\n",
       "      <td>Male</td>\n",
       "      <td>0</td>\n",
       "      <td>Lacerations to leg &amp; hand shark PROVOKED INCIDENT</td>\n",
       "      <td>N</td>\n",
       "      <td>unknown</td>\n",
       "      <td>Tiger shark, 3m</td>\n",
       "      <td>A .Kipper</td>\n",
       "      <td>2018.06.04-Ramos.pdf</td>\n",
       "      <td>http://sharkattackfile.net/spreadsheets/pdf_di...</td>\n",
       "      <td>http://sharkattackfile.net/spreadsheets/pdf_di...</td>\n",
       "      <td>2018.06.04</td>\n",
       "      <td>2018.06.04</td>\n",
       "      <td>6299.0</td>\n",
       "      <td>unknown</td>\n",
       "      <td>unknown</td>\n",
       "    </tr>\n",
       "  </tbody>\n",
       "</table>\n",
       "</div>"
      ],
      "text/plain": [
       "  case_number         date  year        type    country             area  \\\n",
       "0  2018.06.25  25-Jun-2018  2018        Boat        USA       California   \n",
       "1  2018.06.18  18-Jun-2018  2018  Unprovoked        USA          Georgia   \n",
       "2  2018.06.09  09-Jun-2018  2018     Invalid        USA           Hawaii   \n",
       "3  2018.06.08  08-Jun-2018  2018  Unprovoked  AUSTRALIA  New South Wales   \n",
       "4  2018.06.04  04-Jun-2018  2018    Provoked     MEXICO           Colima   \n",
       "\n",
       "                         location     activity             name    sex_  age  \\\n",
       "0     Oceanside, San Diego County     Paddling      Julie Wolfe  Female   57   \n",
       "1  St. Simon Island, Glynn County     Standing  Adyson McNeely   Female   11   \n",
       "2                    Habush, Oahu      Surfing      John Denges    Male   48   \n",
       "3              Arrawarra Headland      Surfing             male    Male    0   \n",
       "4                        La Ticla  Free diving   Gustavo Ramos     Male    0   \n",
       "\n",
       "                                              injury fatal_y_n           time  \\\n",
       "0  No injury to occupant, outrigger canoe and pad...         N          18h00   \n",
       "1                         Minor injury to left thigh         N  14h00  -15h00   \n",
       "2       Injury to left lower leg from surfboard skeg         N          07h45   \n",
       "3                          Minor injury to lower leg         N        unknown   \n",
       "4  Lacerations to leg & hand shark PROVOKED INCIDENT         N        unknown   \n",
       "\n",
       "          species_          investigator_or_source                       pdf  \\\n",
       "0      White shark                R. Collier, GSAF      2018.06.25-Wolfe.pdf   \n",
       "1          unknown  K.McMurray, TrackingSharks.com    2018.06.18-McNeely.pdf   \n",
       "2          unknown  K.McMurray, TrackingSharks.com     2018.06.09-Denges.pdf   \n",
       "3        2 m shark                  B. Myatt, GSAF  2018.06.08-Arrawarra.pdf   \n",
       "4  Tiger shark, 3m                       A .Kipper      2018.06.04-Ramos.pdf   \n",
       "\n",
       "                                        href_formula  \\\n",
       "0  http://sharkattackfile.net/spreadsheets/pdf_di...   \n",
       "1  http://sharkattackfile.net/spreadsheets/pdf_di...   \n",
       "2  http://sharkattackfile.net/spreadsheets/pdf_di...   \n",
       "3  http://sharkattackfile.net/spreadsheets/pdf_di...   \n",
       "4  http://sharkattackfile.net/spreadsheets/pdf_di...   \n",
       "\n",
       "                                                href case_number_1  \\\n",
       "0  http://sharkattackfile.net/spreadsheets/pdf_di...    2018.06.25   \n",
       "1  http://sharkattackfile.net/spreadsheets/pdf_di...    2018.06.18   \n",
       "2  http://sharkattackfile.net/spreadsheets/pdf_di...    2018.06.09   \n",
       "3  http://sharkattackfile.net/spreadsheets/pdf_di...    2018.06.08   \n",
       "4  http://sharkattackfile.net/spreadsheets/pdf_di...    2018.06.04   \n",
       "\n",
       "  case_number_2  original_order unnamed_22 unnamed_23  \n",
       "0    2018.06.25          6303.0    unknown    unknown  \n",
       "1    2018.06.18          6302.0    unknown    unknown  \n",
       "2    2018.06.09          6301.0    unknown    unknown  \n",
       "3    2018.06.08          6300.0    unknown    unknown  \n",
       "4    2018.06.04          6299.0    unknown    unknown  "
      ]
     },
     "execution_count": 83,
     "metadata": {},
     "output_type": "execute_result"
    }
   ],
   "source": []
  },
  {
   "cell_type": "code",
   "execution_count": null,
   "id": "880a4b0f",
   "metadata": {},
   "outputs": [],
   "source": []
  }
 ],
 "metadata": {
  "kernelspec": {
   "display_name": "clase",
   "language": "python",
   "name": "clase"
  },
  "language_info": {
   "codemirror_mode": {
    "name": "ipython",
    "version": 3
   },
   "file_extension": ".py",
   "mimetype": "text/x-python",
   "name": "python",
   "nbconvert_exporter": "python",
   "pygments_lexer": "ipython3",
   "version": "3.9.7"
  }
 },
 "nbformat": 4,
 "nbformat_minor": 5
}
