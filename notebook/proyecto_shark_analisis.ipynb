{
 "cells": [
  {
   "cell_type": "code",
   "execution_count": 1,
   "id": "c3df144d",
   "metadata": {},
   "outputs": [],
   "source": [
    "import pandas as pd\n",
    "pd.set_option('display.max_columns', None)\n",
    "\n",
    "import numpy as np\n",
    "\n",
    "import warnings\n",
    "warnings.simplefilter('ignore')\n",
    "\n",
    "# para pintar\n",
    "import pylab as plt\n",
    "import seaborn as sns\n",
    "\n",
    "# para que salga el grafico\n",
    "%matplotlib inline\n"
   ]
  },
  {
   "cell_type": "code",
   "execution_count": 2,
   "id": "22557382",
   "metadata": {
    "scrolled": true
   },
   "outputs": [],
   "source": [
    "data = pd.read_csv('../Data/attacks_analys.csv', sep=',', encoding='latin1')"
   ]
  },
  {
   "cell_type": "code",
   "execution_count": 3,
   "id": "224f47c5",
   "metadata": {},
   "outputs": [],
   "source": [
    "# Me creo un nuevo data con las columnas que me interesan\n",
    "\n",
    "df = data[[\"year\", \"type\", \"country\", \"area\", \"activity\", \"sex_\", \"age\", \"injury\", \"fatal_y_n\"]]\n"
   ]
  },
  {
   "cell_type": "code",
   "execution_count": 4,
   "id": "23136e60",
   "metadata": {},
   "outputs": [],
   "source": [
    "# Checkeo las filas en las que el año o la edad son igual a 0 (valores nulos para mi) y me las elimino\n",
    "\n",
    "bad_index = df[(df.year==0) | (df.age==0)].index\n",
    "\n",
    "df.drop(index=bad_index, inplace=True)\n"
   ]
  },
  {
   "cell_type": "code",
   "execution_count": 5,
   "id": "a9e90f52",
   "metadata": {},
   "outputs": [
    {
     "data": {
      "text/html": [
       "<div>\n",
       "<style scoped>\n",
       "    .dataframe tbody tr th:only-of-type {\n",
       "        vertical-align: middle;\n",
       "    }\n",
       "\n",
       "    .dataframe tbody tr th {\n",
       "        vertical-align: top;\n",
       "    }\n",
       "\n",
       "    .dataframe thead th {\n",
       "        text-align: right;\n",
       "    }\n",
       "</style>\n",
       "<table border=\"1\" class=\"dataframe\">\n",
       "  <thead>\n",
       "    <tr style=\"text-align: right;\">\n",
       "      <th></th>\n",
       "      <th>count</th>\n",
       "      <th>mean</th>\n",
       "      <th>std</th>\n",
       "      <th>min</th>\n",
       "      <th>25%</th>\n",
       "      <th>50%</th>\n",
       "      <th>75%</th>\n",
       "      <th>max</th>\n",
       "    </tr>\n",
       "  </thead>\n",
       "  <tbody>\n",
       "    <tr>\n",
       "      <th>year</th>\n",
       "      <td>3350.0</td>\n",
       "      <td>1984.584179</td>\n",
       "      <td>31.731507</td>\n",
       "      <td>1703.0</td>\n",
       "      <td>1965.0</td>\n",
       "      <td>1996.0</td>\n",
       "      <td>2009.0</td>\n",
       "      <td>2018.0</td>\n",
       "    </tr>\n",
       "    <tr>\n",
       "      <th>age</th>\n",
       "      <td>3350.0</td>\n",
       "      <td>27.362090</td>\n",
       "      <td>13.897545</td>\n",
       "      <td>1.0</td>\n",
       "      <td>17.0</td>\n",
       "      <td>24.0</td>\n",
       "      <td>35.0</td>\n",
       "      <td>87.0</td>\n",
       "    </tr>\n",
       "  </tbody>\n",
       "</table>\n",
       "</div>"
      ],
      "text/plain": [
       "       count         mean        std     min     25%     50%     75%     max\n",
       "year  3350.0  1984.584179  31.731507  1703.0  1965.0  1996.0  2009.0  2018.0\n",
       "age   3350.0    27.362090  13.897545     1.0    17.0    24.0    35.0    87.0"
      ]
     },
     "execution_count": 5,
     "metadata": {},
     "output_type": "execute_result"
    }
   ],
   "source": [
    "# Saco un resumen de los datos numericos\n",
    "\n",
    "fig = df.describe().T\n",
    "fig\n",
    "\n"
   ]
  },
  {
   "cell_type": "code",
   "execution_count": 6,
   "id": "6026ad95",
   "metadata": {},
   "outputs": [
    {
     "data": {
      "image/png": "[encoded data removed]",
      "text/plain": [
       "<Figure size 432x288 with 1 Axes>"
      ]
     },
     "metadata": {
      "needs_background": "light"
     },
     "output_type": "display_data"
    }
   ],
   "source": [
    "from pandas.plotting import table # EDIT: see deprecation warnings below\n",
    "\n",
    "ax = plt.subplot(111, frame_on=False) # no visible frame\n",
    "ax.xaxis.set_visible(False)  # hide the x axis\n",
    "ax.yaxis.set_visible(False)  # hide the y axis\n",
    "\n",
    "table(ax, fig)  # where df is your data frame\n",
    "\n",
    "plt.savefig('../images/describe.png')"
   ]
  },
  {
   "cell_type": "code",
   "execution_count": 7,
   "id": "b33ad605",
   "metadata": {},
   "outputs": [
    {
     "data": {
      "text/html": [
       "<div>\n",
       "<style scoped>\n",
       "    .dataframe tbody tr th:only-of-type {\n",
       "        vertical-align: middle;\n",
       "    }\n",
       "\n",
       "    .dataframe tbody tr th {\n",
       "        vertical-align: top;\n",
       "    }\n",
       "\n",
       "    .dataframe thead tr th {\n",
       "        text-align: left;\n",
       "    }\n",
       "\n",
       "    .dataframe thead tr:last-of-type th {\n",
       "        text-align: right;\n",
       "    }\n",
       "</style>\n",
       "<table border=\"1\" class=\"dataframe\">\n",
       "  <thead>\n",
       "    <tr>\n",
       "      <th></th>\n",
       "      <th colspan=\"4\" halign=\"left\">age</th>\n",
       "    </tr>\n",
       "    <tr>\n",
       "      <th></th>\n",
       "      <th>count</th>\n",
       "      <th>mean</th>\n",
       "      <th>median</th>\n",
       "      <th>std</th>\n",
       "    </tr>\n",
       "    <tr>\n",
       "      <th>country</th>\n",
       "      <th></th>\n",
       "      <th></th>\n",
       "      <th></th>\n",
       "      <th></th>\n",
       "    </tr>\n",
       "  </thead>\n",
       "  <tbody>\n",
       "    <tr>\n",
       "      <th>USA</th>\n",
       "      <td>1462</td>\n",
       "      <td>26.753078</td>\n",
       "      <td>22.0</td>\n",
       "      <td>14.595243</td>\n",
       "    </tr>\n",
       "    <tr>\n",
       "      <th>AUSTRALIA</th>\n",
       "      <td>697</td>\n",
       "      <td>27.916786</td>\n",
       "      <td>24.0</td>\n",
       "      <td>13.598997</td>\n",
       "    </tr>\n",
       "    <tr>\n",
       "      <th>SOUTH AFRICA</th>\n",
       "      <td>362</td>\n",
       "      <td>25.616022</td>\n",
       "      <td>23.0</td>\n",
       "      <td>10.794174</td>\n",
       "    </tr>\n",
       "    <tr>\n",
       "      <th>BAHAMAS</th>\n",
       "      <td>67</td>\n",
       "      <td>36.626866</td>\n",
       "      <td>36.0</td>\n",
       "      <td>14.744116</td>\n",
       "    </tr>\n",
       "    <tr>\n",
       "      <th>BRAZIL</th>\n",
       "      <td>64</td>\n",
       "      <td>24.015625</td>\n",
       "      <td>21.0</td>\n",
       "      <td>10.071951</td>\n",
       "    </tr>\n",
       "    <tr>\n",
       "      <th>NEW ZEALAND</th>\n",
       "      <td>48</td>\n",
       "      <td>27.604167</td>\n",
       "      <td>23.5</td>\n",
       "      <td>15.479210</td>\n",
       "    </tr>\n",
       "    <tr>\n",
       "      <th>PAPUA NEW GUINEA</th>\n",
       "      <td>44</td>\n",
       "      <td>20.727273</td>\n",
       "      <td>19.0</td>\n",
       "      <td>9.081962</td>\n",
       "    </tr>\n",
       "    <tr>\n",
       "      <th>MEXICO</th>\n",
       "      <td>41</td>\n",
       "      <td>31.780488</td>\n",
       "      <td>32.0</td>\n",
       "      <td>11.816328</td>\n",
       "    </tr>\n",
       "    <tr>\n",
       "      <th>REUNION</th>\n",
       "      <td>35</td>\n",
       "      <td>29.200000</td>\n",
       "      <td>27.0</td>\n",
       "      <td>11.192960</td>\n",
       "    </tr>\n",
       "    <tr>\n",
       "      <th>FIJI</th>\n",
       "      <td>29</td>\n",
       "      <td>28.655172</td>\n",
       "      <td>28.0</td>\n",
       "      <td>12.175138</td>\n",
       "    </tr>\n",
       "  </tbody>\n",
       "</table>\n",
       "</div>"
      ],
      "text/plain": [
       "                   age                             \n",
       "                 count       mean median        std\n",
       "country                                            \n",
       "USA               1462  26.753078   22.0  14.595243\n",
       "AUSTRALIA          697  27.916786   24.0  13.598997\n",
       "SOUTH AFRICA       362  25.616022   23.0  10.794174\n",
       "BAHAMAS             67  36.626866   36.0  14.744116\n",
       "BRAZIL              64  24.015625   21.0  10.071951\n",
       "NEW ZEALAND         48  27.604167   23.5  15.479210\n",
       "PAPUA NEW GUINEA    44  20.727273   19.0   9.081962\n",
       "MEXICO              41  31.780488   32.0  11.816328\n",
       "REUNION             35  29.200000   27.0  11.192960\n",
       "FIJI                29  28.655172   28.0  12.175138"
      ]
     },
     "execution_count": 7,
     "metadata": {},
     "output_type": "execute_result"
    }
   ],
   "source": [
    "# Hago una agrupación para ver diferente medidas en función del pais\n",
    "\n",
    "pais = df.groupby(\"country\").agg({\"age\": [\"count\", \"mean\", \"median\", \"std\"]}).sort_values((\"age\",\"count\"), ascending=False).head(10)\n",
    "pais\n"
   ]
  },
  {
   "cell_type": "code",
   "execution_count": 8,
   "id": "a353be40",
   "metadata": {},
   "outputs": [
    {
     "data": {
      "image/png": "[encoded data removed]",
      "text/plain": [
       "<Figure size 432x288 with 1 Axes>"
      ]
     },
     "metadata": {
      "needs_background": "light"
     },
     "output_type": "display_data"
    }
   ],
   "source": [
    "ax = plt.subplot(111, frame_on=False) # no visible frame\n",
    "ax.xaxis.set_visible(False)  # hide the x axis\n",
    "ax.yaxis.set_visible(False)  # hide the y axis\n",
    "\n",
    "table(ax, pais)  # where df is your data frame\n",
    "\n",
    "plt.savefig('../images/pais.png')"
   ]
  },
  {
   "cell_type": "code",
   "execution_count": 9,
   "id": "99cf38f8",
   "metadata": {},
   "outputs": [
    {
     "data": {
      "text/html": [
       "<div>\n",
       "<style scoped>\n",
       "    .dataframe tbody tr th:only-of-type {\n",
       "        vertical-align: middle;\n",
       "    }\n",
       "\n",
       "    .dataframe tbody tr th {\n",
       "        vertical-align: top;\n",
       "    }\n",
       "\n",
       "    .dataframe thead tr th {\n",
       "        text-align: left;\n",
       "    }\n",
       "\n",
       "    .dataframe thead tr:last-of-type th {\n",
       "        text-align: right;\n",
       "    }\n",
       "</style>\n",
       "<table border=\"1\" class=\"dataframe\">\n",
       "  <thead>\n",
       "    <tr>\n",
       "      <th></th>\n",
       "      <th colspan=\"4\" halign=\"left\">count</th>\n",
       "      <th colspan=\"4\" halign=\"left\">mean</th>\n",
       "    </tr>\n",
       "    <tr>\n",
       "      <th></th>\n",
       "      <th colspan=\"4\" halign=\"left\">age</th>\n",
       "      <th colspan=\"4\" halign=\"left\">age</th>\n",
       "    </tr>\n",
       "    <tr>\n",
       "      <th>sex_</th>\n",
       "      <th>Female</th>\n",
       "      <th>Male</th>\n",
       "      <th>unknown</th>\n",
       "      <th>All</th>\n",
       "      <th>Female</th>\n",
       "      <th>Male</th>\n",
       "      <th>unknown</th>\n",
       "      <th>All</th>\n",
       "    </tr>\n",
       "    <tr>\n",
       "      <th>country</th>\n",
       "      <th></th>\n",
       "      <th></th>\n",
       "      <th></th>\n",
       "      <th></th>\n",
       "      <th></th>\n",
       "      <th></th>\n",
       "      <th></th>\n",
       "      <th></th>\n",
       "    </tr>\n",
       "  </thead>\n",
       "  <tbody>\n",
       "    <tr>\n",
       "      <th>All</th>\n",
       "      <td>441.0</td>\n",
       "      <td>2876.0</td>\n",
       "      <td>33.0</td>\n",
       "      <td>3350</td>\n",
       "      <td>26.900227</td>\n",
       "      <td>27.473922</td>\n",
       "      <td>23.787879</td>\n",
       "      <td>27.362090</td>\n",
       "    </tr>\n",
       "    <tr>\n",
       "      <th>USA</th>\n",
       "      <td>268.0</td>\n",
       "      <td>1183.0</td>\n",
       "      <td>11.0</td>\n",
       "      <td>1462</td>\n",
       "      <td>26.100746</td>\n",
       "      <td>26.967878</td>\n",
       "      <td>19.545455</td>\n",
       "      <td>26.753078</td>\n",
       "    </tr>\n",
       "    <tr>\n",
       "      <th>AUSTRALIA</th>\n",
       "      <td>58.0</td>\n",
       "      <td>632.0</td>\n",
       "      <td>7.0</td>\n",
       "      <td>697</td>\n",
       "      <td>27.603448</td>\n",
       "      <td>27.988924</td>\n",
       "      <td>24.000000</td>\n",
       "      <td>27.916786</td>\n",
       "    </tr>\n",
       "    <tr>\n",
       "      <th>SOUTH AFRICA</th>\n",
       "      <td>14.0</td>\n",
       "      <td>348.0</td>\n",
       "      <td>NaN</td>\n",
       "      <td>362</td>\n",
       "      <td>23.357143</td>\n",
       "      <td>25.706897</td>\n",
       "      <td>NaN</td>\n",
       "      <td>25.616022</td>\n",
       "    </tr>\n",
       "  </tbody>\n",
       "</table>\n",
       "</div>"
      ],
      "text/plain": [
       "              count                             mean                        \\\n",
       "                age                              age                         \n",
       "sex_         Female    Male unknown   All     Female       Male    unknown   \n",
       "country                                                                      \n",
       "All           441.0  2876.0    33.0  3350  26.900227  27.473922  23.787879   \n",
       "USA           268.0  1183.0    11.0  1462  26.100746  26.967878  19.545455   \n",
       "AUSTRALIA      58.0   632.0     7.0   697  27.603448  27.988924  24.000000   \n",
       "SOUTH AFRICA   14.0   348.0     NaN   362  23.357143  25.706897        NaN   \n",
       "\n",
       "                         \n",
       "                         \n",
       "sex_                All  \n",
       "country                  \n",
       "All           27.362090  \n",
       "USA           26.753078  \n",
       "AUSTRALIA     27.916786  \n",
       "SOUTH AFRICA  25.616022  "
      ]
     },
     "execution_count": 9,
     "metadata": {},
     "output_type": "execute_result"
    }
   ],
   "source": [
    "# Hago una pivot table para ver diferente medidas en función del pais y del sexo\n",
    "\n",
    "df.pivot_table(aggfunc=['count', 'mean'], index=['country'], columns=['sex_'], values=['age'], margins=True ).sort_values((\"count\", \"age\", \"All\"), ascending=False).head(4)"
   ]
  },
  {
   "cell_type": "code",
   "execution_count": 17,
   "id": "9b6196e4",
   "metadata": {
    "scrolled": true
   },
   "outputs": [
    {
     "data": {
      "image/png": "[encoded data removed]",
      "text/plain": [
       "<Figure size 432x288 with 1 Axes>"
      ]
     },
     "metadata": {
      "needs_background": "light"
     },
     "output_type": "display_data"
    }
   ],
   "source": [
    "df.sex_[df.sex_!= \"unknown\"].value_counts().plot.bar();"
   ]
  },
  {
   "cell_type": "code",
   "execution_count": 19,
   "id": "9926f360",
   "metadata": {},
   "outputs": [
    {
     "data": {
      "text/html": [
       "<div>\n",
       "<style scoped>\n",
       "    .dataframe tbody tr th:only-of-type {\n",
       "        vertical-align: middle;\n",
       "    }\n",
       "\n",
       "    .dataframe tbody tr th {\n",
       "        vertical-align: top;\n",
       "    }\n",
       "\n",
       "    .dataframe thead tr th {\n",
       "        text-align: left;\n",
       "    }\n",
       "\n",
       "    .dataframe thead tr:last-of-type th {\n",
       "        text-align: right;\n",
       "    }\n",
       "</style>\n",
       "<table border=\"1\" class=\"dataframe\">\n",
       "  <thead>\n",
       "    <tr>\n",
       "      <th></th>\n",
       "      <th colspan=\"4\" halign=\"left\">count</th>\n",
       "      <th colspan=\"4\" halign=\"left\">mean</th>\n",
       "    </tr>\n",
       "    <tr>\n",
       "      <th></th>\n",
       "      <th colspan=\"4\" halign=\"left\">age</th>\n",
       "      <th colspan=\"4\" halign=\"left\">age</th>\n",
       "    </tr>\n",
       "    <tr>\n",
       "      <th>fatal_y_n</th>\n",
       "      <th>N</th>\n",
       "      <th>UNKNOWN</th>\n",
       "      <th>Y</th>\n",
       "      <th>All</th>\n",
       "      <th>N</th>\n",
       "      <th>UNKNOWN</th>\n",
       "      <th>Y</th>\n",
       "      <th>All</th>\n",
       "    </tr>\n",
       "    <tr>\n",
       "      <th>country</th>\n",
       "      <th></th>\n",
       "      <th></th>\n",
       "      <th></th>\n",
       "      <th></th>\n",
       "      <th></th>\n",
       "      <th></th>\n",
       "      <th></th>\n",
       "      <th></th>\n",
       "    </tr>\n",
       "  </thead>\n",
       "  <tbody>\n",
       "    <tr>\n",
       "      <th>All</th>\n",
       "      <td>2535.0</td>\n",
       "      <td>227.0</td>\n",
       "      <td>588.0</td>\n",
       "      <td>3350</td>\n",
       "      <td>27.272584</td>\n",
       "      <td>29.066079</td>\n",
       "      <td>27.090136</td>\n",
       "      <td>27.362090</td>\n",
       "    </tr>\n",
       "    <tr>\n",
       "      <th>USA</th>\n",
       "      <td>1293.0</td>\n",
       "      <td>90.0</td>\n",
       "      <td>79.0</td>\n",
       "      <td>1462</td>\n",
       "      <td>26.430008</td>\n",
       "      <td>28.755556</td>\n",
       "      <td>29.759494</td>\n",
       "      <td>26.753078</td>\n",
       "    </tr>\n",
       "    <tr>\n",
       "      <th>AUSTRALIA</th>\n",
       "      <td>468.0</td>\n",
       "      <td>53.0</td>\n",
       "      <td>176.0</td>\n",
       "      <td>697</td>\n",
       "      <td>27.888889</td>\n",
       "      <td>29.792453</td>\n",
       "      <td>27.426136</td>\n",
       "      <td>27.916786</td>\n",
       "    </tr>\n",
       "    <tr>\n",
       "      <th>SOUTH AFRICA</th>\n",
       "      <td>264.0</td>\n",
       "      <td>25.0</td>\n",
       "      <td>73.0</td>\n",
       "      <td>362</td>\n",
       "      <td>25.473485</td>\n",
       "      <td>27.400000</td>\n",
       "      <td>25.520548</td>\n",
       "      <td>25.616022</td>\n",
       "    </tr>\n",
       "  </tbody>\n",
       "</table>\n",
       "</div>"
      ],
      "text/plain": [
       "               count                            mean                        \\\n",
       "                 age                             age                         \n",
       "fatal_y_n          N UNKNOWN      Y   All          N    UNKNOWN          Y   \n",
       "country                                                                      \n",
       "All           2535.0   227.0  588.0  3350  27.272584  29.066079  27.090136   \n",
       "USA           1293.0    90.0   79.0  1462  26.430008  28.755556  29.759494   \n",
       "AUSTRALIA      468.0    53.0  176.0   697  27.888889  29.792453  27.426136   \n",
       "SOUTH AFRICA   264.0    25.0   73.0   362  25.473485  27.400000  25.520548   \n",
       "\n",
       "                         \n",
       "                         \n",
       "fatal_y_n           All  \n",
       "country                  \n",
       "All           27.362090  \n",
       "USA           26.753078  \n",
       "AUSTRALIA     27.916786  \n",
       "SOUTH AFRICA  25.616022  "
      ]
     },
     "execution_count": 19,
     "metadata": {},
     "output_type": "execute_result"
    }
   ],
   "source": [
    "# Hago una pivot table para ver diferente medidas en función del pais y mortalidad\n",
    "\n",
    "df.pivot_table(aggfunc=['count', 'mean'], index=['country'], columns=['fatal_y_n'], values=['age'], margins=True ).sort_values((\"count\", \"age\", \"All\"), ascending=False).head(4)"
   ]
  },
  {
   "cell_type": "code",
   "execution_count": 18,
   "id": "fee4f0b8",
   "metadata": {
    "scrolled": true
   },
   "outputs": [
    {
     "data": {
      "image/png": "[encoded data removed]",
      "text/plain": [
       "<Figure size 720x432 with 1 Axes>"
      ]
     },
     "metadata": {
      "needs_background": "light"
     },
     "output_type": "display_data"
    }
   ],
   "source": [
    "plt.figure(figsize=(10, 6))\n",
    "df.fatal_y_n[df.fatal_y_n != \"UNKNOWN\"].value_counts().plot.bar();\n"
   ]
  },
  {
   "cell_type": "code",
   "execution_count": null,
   "id": "44eb323c",
   "metadata": {},
   "outputs": [],
   "source": []
  }
 ],
 "metadata": {
  "kernelspec": {
   "display_name": "clase",
   "language": "python",
   "name": "clase"
  },
  "language_info": {
   "codemirror_mode": {
    "name": "ipython",
    "version": 3
   },
   "file_extension": ".py",
   "mimetype": "text/x-python",
   "name": "python",
   "nbconvert_exporter": "python",
   "pygments_lexer": "ipython3",
   "version": "3.9.7"
  }
 },
 "nbformat": 4,
 "nbformat_minor": 5
}
