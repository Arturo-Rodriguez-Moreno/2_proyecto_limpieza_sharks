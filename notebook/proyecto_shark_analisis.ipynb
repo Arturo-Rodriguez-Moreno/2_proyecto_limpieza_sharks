{
 "cells": [
  {
   "cell_type": "code",
   "execution_count": 1,
   "id": "c3df144d",
   "metadata": {},
   "outputs": [],
   "source": [
    "import pandas as pd\n",
    "pd.set_option('display.max_columns', None)\n",
    "\n",
    "import numpy as np\n",
    "\n",
    "import warnings\n",
    "warnings.simplefilter('ignore')\n",
    "\n",
    "# para pintar\n",
    "import pylab as plt\n",
    "import seaborn as sns\n",
    "\n",
    "# para que salga el grafico\n",
    "%matplotlib inline"
   ]
  },
  {
   "cell_type": "code",
   "execution_count": 16,
   "id": "22557382",
   "metadata": {
    "scrolled": true
   },
   "outputs": [],
   "source": [
    "data = pd.read_csv('../Data/attacks_analys.csv', sep=',', encoding='latin1')"
   ]
  },
  {
   "cell_type": "code",
   "execution_count": 66,
   "id": "224f47c5",
   "metadata": {},
   "outputs": [
    {
     "data": {
      "text/plain": [
       "6302"
      ]
     },
     "execution_count": 66,
     "metadata": {},
     "output_type": "execute_result"
    }
   ],
   "source": [
    "# Me creo un nuevo data con las columnas que me interesan\n",
    "\n",
    "df = data[[\"year\", \"type\", \"country\", \"area\", \"activity\", \"sex_\", \"age\", \"injury\", \"fatal_y_n\"]]\n"
   ]
  },
  {
   "cell_type": "code",
   "execution_count": 69,
   "id": "23136e60",
   "metadata": {},
   "outputs": [
    {
     "data": {
      "text/plain": [
       "3350"
      ]
     },
     "execution_count": 69,
     "metadata": {},
     "output_type": "execute_result"
    }
   ],
   "source": [
    "# Checkeo las filas en las que el año o la edad son igual a 0 (valores nulos para mi) y me las elimino\n",
    "\n",
    "bad_index = df[(df.year==0) | (df.age==0)].index\n",
    "\n",
    "df.drop(index=bad_index, inplace=True)\n"
   ]
  },
  {
   "cell_type": "code",
   "execution_count": 74,
   "id": "a9e90f52",
   "metadata": {},
   "outputs": [
    {
     "data": {
      "text/html": [
       "<div>\n",
       "<style scoped>\n",
       "    .dataframe tbody tr th:only-of-type {\n",
       "        vertical-align: middle;\n",
       "    }\n",
       "\n",
       "    .dataframe tbody tr th {\n",
       "        vertical-align: top;\n",
       "    }\n",
       "\n",
       "    .dataframe thead th {\n",
       "        text-align: right;\n",
       "    }\n",
       "</style>\n",
       "<table border=\"1\" class=\"dataframe\">\n",
       "  <thead>\n",
       "    <tr style=\"text-align: right;\">\n",
       "      <th></th>\n",
       "      <th>count</th>\n",
       "      <th>mean</th>\n",
       "      <th>std</th>\n",
       "      <th>min</th>\n",
       "      <th>25%</th>\n",
       "      <th>50%</th>\n",
       "      <th>75%</th>\n",
       "      <th>max</th>\n",
       "    </tr>\n",
       "  </thead>\n",
       "  <tbody>\n",
       "    <tr>\n",
       "      <th>year</th>\n",
       "      <td>3350.0</td>\n",
       "      <td>1984.584179</td>\n",
       "      <td>31.731507</td>\n",
       "      <td>1703.0</td>\n",
       "      <td>1965.0</td>\n",
       "      <td>1996.0</td>\n",
       "      <td>2009.0</td>\n",
       "      <td>2018.0</td>\n",
       "    </tr>\n",
       "    <tr>\n",
       "      <th>age</th>\n",
       "      <td>3350.0</td>\n",
       "      <td>27.362090</td>\n",
       "      <td>13.897545</td>\n",
       "      <td>1.0</td>\n",
       "      <td>17.0</td>\n",
       "      <td>24.0</td>\n",
       "      <td>35.0</td>\n",
       "      <td>87.0</td>\n",
       "    </tr>\n",
       "  </tbody>\n",
       "</table>\n",
       "</div>"
      ],
      "text/plain": [
       "       count         mean        std     min     25%     50%     75%     max\n",
       "year  3350.0  1984.584179  31.731507  1703.0  1965.0  1996.0  2009.0  2018.0\n",
       "age   3350.0    27.362090  13.897545     1.0    17.0    24.0    35.0    87.0"
      ]
     },
     "execution_count": 74,
     "metadata": {},
     "output_type": "execute_result"
    }
   ],
   "source": [
    "# Saco un resumen de los datos numericos\n",
    "\n",
    "df.describe().T"
   ]
  },
  {
   "cell_type": "code",
   "execution_count": 99,
   "id": "b33ad605",
   "metadata": {},
   "outputs": [
    {
     "data": {
      "text/html": [
       "<div>\n",
       "<style scoped>\n",
       "    .dataframe tbody tr th:only-of-type {\n",
       "        vertical-align: middle;\n",
       "    }\n",
       "\n",
       "    .dataframe tbody tr th {\n",
       "        vertical-align: top;\n",
       "    }\n",
       "\n",
       "    .dataframe thead tr th {\n",
       "        text-align: left;\n",
       "    }\n",
       "\n",
       "    .dataframe thead tr:last-of-type th {\n",
       "        text-align: right;\n",
       "    }\n",
       "</style>\n",
       "<table border=\"1\" class=\"dataframe\">\n",
       "  <thead>\n",
       "    <tr>\n",
       "      <th></th>\n",
       "      <th colspan=\"4\" halign=\"left\">age</th>\n",
       "    </tr>\n",
       "    <tr>\n",
       "      <th></th>\n",
       "      <th>count</th>\n",
       "      <th>mean</th>\n",
       "      <th>median</th>\n",
       "      <th>std</th>\n",
       "    </tr>\n",
       "    <tr>\n",
       "      <th>country</th>\n",
       "      <th></th>\n",
       "      <th></th>\n",
       "      <th></th>\n",
       "      <th></th>\n",
       "    </tr>\n",
       "  </thead>\n",
       "  <tbody>\n",
       "    <tr>\n",
       "      <th>USA</th>\n",
       "      <td>1462</td>\n",
       "      <td>26.753078</td>\n",
       "      <td>22.0</td>\n",
       "      <td>14.595243</td>\n",
       "    </tr>\n",
       "    <tr>\n",
       "      <th>AUSTRALIA</th>\n",
       "      <td>697</td>\n",
       "      <td>27.916786</td>\n",
       "      <td>24.0</td>\n",
       "      <td>13.598997</td>\n",
       "    </tr>\n",
       "    <tr>\n",
       "      <th>SOUTH AFRICA</th>\n",
       "      <td>362</td>\n",
       "      <td>25.616022</td>\n",
       "      <td>23.0</td>\n",
       "      <td>10.794174</td>\n",
       "    </tr>\n",
       "    <tr>\n",
       "      <th>BAHAMAS</th>\n",
       "      <td>67</td>\n",
       "      <td>36.626866</td>\n",
       "      <td>36.0</td>\n",
       "      <td>14.744116</td>\n",
       "    </tr>\n",
       "    <tr>\n",
       "      <th>BRAZIL</th>\n",
       "      <td>64</td>\n",
       "      <td>24.015625</td>\n",
       "      <td>21.0</td>\n",
       "      <td>10.071951</td>\n",
       "    </tr>\n",
       "    <tr>\n",
       "      <th>NEW ZEALAND</th>\n",
       "      <td>48</td>\n",
       "      <td>27.604167</td>\n",
       "      <td>23.5</td>\n",
       "      <td>15.479210</td>\n",
       "    </tr>\n",
       "    <tr>\n",
       "      <th>PAPUA NEW GUINEA</th>\n",
       "      <td>44</td>\n",
       "      <td>20.727273</td>\n",
       "      <td>19.0</td>\n",
       "      <td>9.081962</td>\n",
       "    </tr>\n",
       "    <tr>\n",
       "      <th>MEXICO</th>\n",
       "      <td>41</td>\n",
       "      <td>31.780488</td>\n",
       "      <td>32.0</td>\n",
       "      <td>11.816328</td>\n",
       "    </tr>\n",
       "    <tr>\n",
       "      <th>REUNION</th>\n",
       "      <td>35</td>\n",
       "      <td>29.200000</td>\n",
       "      <td>27.0</td>\n",
       "      <td>11.192960</td>\n",
       "    </tr>\n",
       "    <tr>\n",
       "      <th>FIJI</th>\n",
       "      <td>29</td>\n",
       "      <td>28.655172</td>\n",
       "      <td>28.0</td>\n",
       "      <td>12.175138</td>\n",
       "    </tr>\n",
       "  </tbody>\n",
       "</table>\n",
       "</div>"
      ],
      "text/plain": [
       "                   age                             \n",
       "                 count       mean median        std\n",
       "country                                            \n",
       "USA               1462  26.753078   22.0  14.595243\n",
       "AUSTRALIA          697  27.916786   24.0  13.598997\n",
       "SOUTH AFRICA       362  25.616022   23.0  10.794174\n",
       "BAHAMAS             67  36.626866   36.0  14.744116\n",
       "BRAZIL              64  24.015625   21.0  10.071951\n",
       "NEW ZEALAND         48  27.604167   23.5  15.479210\n",
       "PAPUA NEW GUINEA    44  20.727273   19.0   9.081962\n",
       "MEXICO              41  31.780488   32.0  11.816328\n",
       "REUNION             35  29.200000   27.0  11.192960\n",
       "FIJI                29  28.655172   28.0  12.175138"
      ]
     },
     "execution_count": 99,
     "metadata": {},
     "output_type": "execute_result"
    }
   ],
   "source": [
    "# Hago una agrupación para ver diferente medidas en función del pais\n",
    "\n",
    "df.groupby(\"country\").agg({\"age\": [\"count\", \"mean\", \"median\", \"std\"]}).sort_values((\"age\",\"count\"), ascending=False).head(10)"
   ]
  },
  {
   "cell_type": "code",
   "execution_count": 100,
   "id": "99cf38f8",
   "metadata": {},
   "outputs": [
    {
     "data": {
      "text/html": [
       "<div>\n",
       "<style scoped>\n",
       "    .dataframe tbody tr th:only-of-type {\n",
       "        vertical-align: middle;\n",
       "    }\n",
       "\n",
       "    .dataframe tbody tr th {\n",
       "        vertical-align: top;\n",
       "    }\n",
       "\n",
       "    .dataframe thead tr th {\n",
       "        text-align: left;\n",
       "    }\n",
       "\n",
       "    .dataframe thead tr:last-of-type th {\n",
       "        text-align: right;\n",
       "    }\n",
       "</style>\n",
       "<table border=\"1\" class=\"dataframe\">\n",
       "  <thead>\n",
       "    <tr>\n",
       "      <th></th>\n",
       "      <th colspan=\"4\" halign=\"left\">count</th>\n",
       "      <th colspan=\"4\" halign=\"left\">mean</th>\n",
       "    </tr>\n",
       "    <tr>\n",
       "      <th></th>\n",
       "      <th colspan=\"4\" halign=\"left\">age</th>\n",
       "      <th colspan=\"4\" halign=\"left\">age</th>\n",
       "    </tr>\n",
       "    <tr>\n",
       "      <th>sex_</th>\n",
       "      <th>Female</th>\n",
       "      <th>Male</th>\n",
       "      <th>unknown</th>\n",
       "      <th>All</th>\n",
       "      <th>Female</th>\n",
       "      <th>Male</th>\n",
       "      <th>unknown</th>\n",
       "      <th>All</th>\n",
       "    </tr>\n",
       "    <tr>\n",
       "      <th>country</th>\n",
       "      <th></th>\n",
       "      <th></th>\n",
       "      <th></th>\n",
       "      <th></th>\n",
       "      <th></th>\n",
       "      <th></th>\n",
       "      <th></th>\n",
       "      <th></th>\n",
       "    </tr>\n",
       "  </thead>\n",
       "  <tbody>\n",
       "    <tr>\n",
       "      <th>All</th>\n",
       "      <td>441.0</td>\n",
       "      <td>2876.0</td>\n",
       "      <td>33.0</td>\n",
       "      <td>3350</td>\n",
       "      <td>26.900227</td>\n",
       "      <td>27.473922</td>\n",
       "      <td>23.787879</td>\n",
       "      <td>27.362090</td>\n",
       "    </tr>\n",
       "    <tr>\n",
       "      <th>USA</th>\n",
       "      <td>268.0</td>\n",
       "      <td>1183.0</td>\n",
       "      <td>11.0</td>\n",
       "      <td>1462</td>\n",
       "      <td>26.100746</td>\n",
       "      <td>26.967878</td>\n",
       "      <td>19.545455</td>\n",
       "      <td>26.753078</td>\n",
       "    </tr>\n",
       "    <tr>\n",
       "      <th>AUSTRALIA</th>\n",
       "      <td>58.0</td>\n",
       "      <td>632.0</td>\n",
       "      <td>7.0</td>\n",
       "      <td>697</td>\n",
       "      <td>27.603448</td>\n",
       "      <td>27.988924</td>\n",
       "      <td>24.000000</td>\n",
       "      <td>27.916786</td>\n",
       "    </tr>\n",
       "    <tr>\n",
       "      <th>SOUTH AFRICA</th>\n",
       "      <td>14.0</td>\n",
       "      <td>348.0</td>\n",
       "      <td>NaN</td>\n",
       "      <td>362</td>\n",
       "      <td>23.357143</td>\n",
       "      <td>25.706897</td>\n",
       "      <td>NaN</td>\n",
       "      <td>25.616022</td>\n",
       "    </tr>\n",
       "    <tr>\n",
       "      <th>BAHAMAS</th>\n",
       "      <td>11.0</td>\n",
       "      <td>56.0</td>\n",
       "      <td>NaN</td>\n",
       "      <td>67</td>\n",
       "      <td>30.818182</td>\n",
       "      <td>37.767857</td>\n",
       "      <td>NaN</td>\n",
       "      <td>36.626866</td>\n",
       "    </tr>\n",
       "    <tr>\n",
       "      <th>BRAZIL</th>\n",
       "      <td>4.0</td>\n",
       "      <td>60.0</td>\n",
       "      <td>NaN</td>\n",
       "      <td>64</td>\n",
       "      <td>25.000000</td>\n",
       "      <td>23.950000</td>\n",
       "      <td>NaN</td>\n",
       "      <td>24.015625</td>\n",
       "    </tr>\n",
       "    <tr>\n",
       "      <th>NEW ZEALAND</th>\n",
       "      <td>6.0</td>\n",
       "      <td>41.0</td>\n",
       "      <td>1.0</td>\n",
       "      <td>48</td>\n",
       "      <td>22.166667</td>\n",
       "      <td>28.731707</td>\n",
       "      <td>14.000000</td>\n",
       "      <td>27.604167</td>\n",
       "    </tr>\n",
       "    <tr>\n",
       "      <th>PAPUA NEW GUINEA</th>\n",
       "      <td>4.0</td>\n",
       "      <td>37.0</td>\n",
       "      <td>3.0</td>\n",
       "      <td>44</td>\n",
       "      <td>16.000000</td>\n",
       "      <td>21.837838</td>\n",
       "      <td>13.333333</td>\n",
       "      <td>20.727273</td>\n",
       "    </tr>\n",
       "    <tr>\n",
       "      <th>MEXICO</th>\n",
       "      <td>5.0</td>\n",
       "      <td>35.0</td>\n",
       "      <td>1.0</td>\n",
       "      <td>41</td>\n",
       "      <td>29.000000</td>\n",
       "      <td>31.457143</td>\n",
       "      <td>57.000000</td>\n",
       "      <td>31.780488</td>\n",
       "    </tr>\n",
       "    <tr>\n",
       "      <th>REUNION</th>\n",
       "      <td>2.0</td>\n",
       "      <td>33.0</td>\n",
       "      <td>NaN</td>\n",
       "      <td>35</td>\n",
       "      <td>18.500000</td>\n",
       "      <td>29.848485</td>\n",
       "      <td>NaN</td>\n",
       "      <td>29.200000</td>\n",
       "    </tr>\n",
       "  </tbody>\n",
       "</table>\n",
       "</div>"
      ],
      "text/plain": [
       "                  count                             mean             \\\n",
       "                    age                              age              \n",
       "sex_             Female    Male unknown   All     Female       Male   \n",
       "country                                                               \n",
       "All               441.0  2876.0    33.0  3350  26.900227  27.473922   \n",
       "USA               268.0  1183.0    11.0  1462  26.100746  26.967878   \n",
       "AUSTRALIA          58.0   632.0     7.0   697  27.603448  27.988924   \n",
       "SOUTH AFRICA       14.0   348.0     NaN   362  23.357143  25.706897   \n",
       "BAHAMAS            11.0    56.0     NaN    67  30.818182  37.767857   \n",
       "BRAZIL              4.0    60.0     NaN    64  25.000000  23.950000   \n",
       "NEW ZEALAND         6.0    41.0     1.0    48  22.166667  28.731707   \n",
       "PAPUA NEW GUINEA    4.0    37.0     3.0    44  16.000000  21.837838   \n",
       "MEXICO              5.0    35.0     1.0    41  29.000000  31.457143   \n",
       "REUNION             2.0    33.0     NaN    35  18.500000  29.848485   \n",
       "\n",
       "                                        \n",
       "                                        \n",
       "sex_                unknown        All  \n",
       "country                                 \n",
       "All               23.787879  27.362090  \n",
       "USA               19.545455  26.753078  \n",
       "AUSTRALIA         24.000000  27.916786  \n",
       "SOUTH AFRICA            NaN  25.616022  \n",
       "BAHAMAS                 NaN  36.626866  \n",
       "BRAZIL                  NaN  24.015625  \n",
       "NEW ZEALAND       14.000000  27.604167  \n",
       "PAPUA NEW GUINEA  13.333333  20.727273  \n",
       "MEXICO            57.000000  31.780488  \n",
       "REUNION                 NaN  29.200000  "
      ]
     },
     "execution_count": 100,
     "metadata": {},
     "output_type": "execute_result"
    }
   ],
   "source": [
    "# Hago una pivot table para ver diferente medidas en función del pais y del sexo\n",
    "\n",
    "df.pivot_table(aggfunc=['count', 'mean'], index=['country'], columns=['sex_'], values=['age'], margins=True ).sort_values((\"count\", \"age\", \"All\"), ascending=False).head(10)"
   ]
  },
  {
   "cell_type": "code",
   "execution_count": 73,
   "id": "b2ed69ce",
   "metadata": {
    "scrolled": false
   },
   "outputs": [
    {
     "data": {
      "image/png": "[encoded data removed]",
      "text/plain": [
       "<Figure size 720x432 with 1 Axes>"
      ]
     },
     "metadata": {
      "needs_background": "light"
     },
     "output_type": "display_data"
    }
   ],
   "source": [
    "plt.figure(figsize=(10, 6))\n",
    "df.sex_.value_counts().plot.bar();"
   ]
  },
  {
   "cell_type": "code",
   "execution_count": 70,
   "id": "fee4f0b8",
   "metadata": {
    "scrolled": true
   },
   "outputs": [
    {
     "data": {
      "image/png": "[encoded data removed]",
      "text/plain": [
       "<Figure size 720x432 with 1 Axes>"
      ]
     },
     "metadata": {
      "needs_background": "light"
     },
     "output_type": "display_data"
    }
   ],
   "source": [
    "plt.figure(figsize=(10, 6))\n",
    "df.type.value_counts().plot.bar();"
   ]
  },
  {
   "cell_type": "code",
   "execution_count": null,
   "id": "44eb323c",
   "metadata": {},
   "outputs": [],
   "source": []
  }
 ],
 "metadata": {
  "kernelspec": {
   "display_name": "clase",
   "language": "python",
   "name": "clase"
  },
  "language_info": {
   "codemirror_mode": {
    "name": "ipython",
    "version": 3
   },
   "file_extension": ".py",
   "mimetype": "text/x-python",
   "name": "python",
   "nbconvert_exporter": "python",
   "pygments_lexer": "ipython3",
   "version": "3.9.7"
  }
 },
 "nbformat": 4,
 "nbformat_minor": 5
}
